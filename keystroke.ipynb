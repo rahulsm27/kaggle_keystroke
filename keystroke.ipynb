{
 "cells": [
  {
   "cell_type": "code",
   "execution_count": 1,
   "id": "2fcb8eeb",
   "metadata": {
    "_cell_guid": "b1076dfc-b9ad-4769-8c92-a6c4dae69d19",
    "_uuid": "8f2839f25d086af736a60e9eeb907d3b93b6e0e5",
    "execution": {
     "iopub.execute_input": "2023-10-17T10:43:33.145695Z",
     "iopub.status.busy": "2023-10-17T10:43:33.145336Z",
     "iopub.status.idle": "2023-10-17T10:43:33.538280Z",
     "shell.execute_reply": "2023-10-17T10:43:33.536929Z"
    },
    "papermill": {
     "duration": 0.402843,
     "end_time": "2023-10-17T10:43:33.541046",
     "exception": false,
     "start_time": "2023-10-17T10:43:33.138203",
     "status": "completed"
    },
    "tags": []
   },
   "outputs": [
    {
     "name": "stdout",
     "output_type": "stream",
     "text": [
      "/kaggle/input/linking-writing-processes-to-writing-quality/sample_submission.csv\n",
      "/kaggle/input/linking-writing-processes-to-writing-quality/test_logs.csv\n",
      "/kaggle/input/linking-writing-processes-to-writing-quality/train_scores.csv\n",
      "/kaggle/input/linking-writing-processes-to-writing-quality/train_logs.csv\n"
     ]
    }
   ],
   "source": [
    "# This Python 3 environment comes with many helpful analytics libraries installed\n",
    "# It is defined by the kaggle/python Docker image: https://github.com/kaggle/docker-python\n",
    "# For example, here's several helpful packages to load\n",
    "\n",
    "import numpy as np # linear algebra\n",
    "import pandas as pd # data processing, CSV file I/O (e.g. pd.read_csv)\n",
    "import tqdm\n",
    "\n",
    "# Input data files are available in the read-only \"../input/\" directory\n",
    "# For example, running this (by clicking run or pressing Shift+Enter) will list all files under the input directory\n",
    "\n",
    "import os\n",
    "for dirname, _, filenames in os.walk('/kaggle/input'):\n",
    "    for filename in filenames:\n",
    "        print(os.path.join(dirname, filename))\n",
    "\n",
    "# You can write up to 20GB to the current directory (/kaggle/working/) that gets preserved as output when you create a version using \"Save & Run All\" \n",
    "# You can also write temporary files to /kaggle/temp/, but they won't be saved outside of the current session"
   ]
  },
  {
   "cell_type": "markdown",
   "id": "b527ad6f",
   "metadata": {
    "papermill": {
     "duration": 0.004761,
     "end_time": "2023-10-17T10:43:33.551350",
     "exception": false,
     "start_time": "2023-10-17T10:43:33.546589",
     "status": "completed"
    },
    "tags": []
   },
   "source": [
    "## 1. EDA"
   ]
  },
  {
   "cell_type": "code",
   "execution_count": 2,
   "id": "62464309",
   "metadata": {
    "execution": {
     "iopub.execute_input": "2023-10-17T10:43:33.563758Z",
     "iopub.status.busy": "2023-10-17T10:43:33.563267Z",
     "iopub.status.idle": "2023-10-17T10:43:47.296985Z",
     "shell.execute_reply": "2023-10-17T10:43:47.295887Z"
    },
    "papermill": {
     "duration": 13.742722,
     "end_time": "2023-10-17T10:43:47.299383",
     "exception": false,
     "start_time": "2023-10-17T10:43:33.556661",
     "status": "completed"
    },
    "tags": []
   },
   "outputs": [],
   "source": [
    "# Reading the files\n",
    "train_df = pd.read_csv('/kaggle/input/linking-writing-processes-to-writing-quality/train_logs.csv')\n",
    "test_df = pd.read_csv('/kaggle/input/linking-writing-processes-to-writing-quality/test_logs.csv')\n",
    "train_scores = pd.read_csv('/kaggle/input/linking-writing-processes-to-writing-quality/train_scores.csv')"
   ]
  },
  {
   "cell_type": "code",
   "execution_count": 3,
   "id": "dbe2d67b",
   "metadata": {
    "execution": {
     "iopub.execute_input": "2023-10-17T10:43:47.311406Z",
     "iopub.status.busy": "2023-10-17T10:43:47.311030Z",
     "iopub.status.idle": "2023-10-17T10:43:47.315382Z",
     "shell.execute_reply": "2023-10-17T10:43:47.314168Z"
    },
    "papermill": {
     "duration": 0.012851,
     "end_time": "2023-10-17T10:43:47.317385",
     "exception": false,
     "start_time": "2023-10-17T10:43:47.304534",
     "status": "completed"
    },
    "tags": []
   },
   "outputs": [],
   "source": [
    "# checking train_df and train_scores\n",
    "#train_df"
   ]
  },
  {
   "cell_type": "code",
   "execution_count": 4,
   "id": "50e06a67",
   "metadata": {
    "execution": {
     "iopub.execute_input": "2023-10-17T10:43:47.329350Z",
     "iopub.status.busy": "2023-10-17T10:43:47.328715Z",
     "iopub.status.idle": "2023-10-17T10:43:47.332770Z",
     "shell.execute_reply": "2023-10-17T10:43:47.331830Z"
    },
    "papermill": {
     "duration": 0.012584,
     "end_time": "2023-10-17T10:43:47.334968",
     "exception": false,
     "start_time": "2023-10-17T10:43:47.322384",
     "status": "completed"
    },
    "tags": []
   },
   "outputs": [],
   "source": [
    "#train_scores"
   ]
  },
  {
   "cell_type": "code",
   "execution_count": 5,
   "id": "3c80de03",
   "metadata": {
    "execution": {
     "iopub.execute_input": "2023-10-17T10:43:47.346965Z",
     "iopub.status.busy": "2023-10-17T10:43:47.346095Z",
     "iopub.status.idle": "2023-10-17T10:43:47.350708Z",
     "shell.execute_reply": "2023-10-17T10:43:47.349582Z"
    },
    "papermill": {
     "duration": 0.012893,
     "end_time": "2023-10-17T10:43:47.352845",
     "exception": false,
     "start_time": "2023-10-17T10:43:47.339952",
     "status": "completed"
    },
    "tags": []
   },
   "outputs": [],
   "source": [
    "# Checking the column list\n",
    "#train_df.columns"
   ]
  },
  {
   "cell_type": "code",
   "execution_count": 6,
   "id": "2a7f361c",
   "metadata": {
    "execution": {
     "iopub.execute_input": "2023-10-17T10:43:47.364321Z",
     "iopub.status.busy": "2023-10-17T10:43:47.363771Z",
     "iopub.status.idle": "2023-10-17T10:43:47.367519Z",
     "shell.execute_reply": "2023-10-17T10:43:47.366557Z"
    },
    "papermill": {
     "duration": 0.011751,
     "end_time": "2023-10-17T10:43:47.369524",
     "exception": false,
     "start_time": "2023-10-17T10:43:47.357773",
     "status": "completed"
    },
    "tags": []
   },
   "outputs": [],
   "source": [
    "# Checking data types of each column\n",
    "#train_df.dtypes"
   ]
  },
  {
   "cell_type": "code",
   "execution_count": 7,
   "id": "4472f3d6",
   "metadata": {
    "execution": {
     "iopub.execute_input": "2023-10-17T10:43:47.381470Z",
     "iopub.status.busy": "2023-10-17T10:43:47.381105Z",
     "iopub.status.idle": "2023-10-17T10:43:47.385305Z",
     "shell.execute_reply": "2023-10-17T10:43:47.384227Z"
    },
    "papermill": {
     "duration": 0.013044,
     "end_time": "2023-10-17T10:43:47.387487",
     "exception": false,
     "start_time": "2023-10-17T10:43:47.374443",
     "status": "completed"
    },
    "tags": []
   },
   "outputs": [],
   "source": [
    "# checking for null values\n",
    "#train_df.isnull().sum()"
   ]
  },
  {
   "cell_type": "code",
   "execution_count": 8,
   "id": "79fe2b6d",
   "metadata": {
    "execution": {
     "iopub.execute_input": "2023-10-17T10:43:47.399642Z",
     "iopub.status.busy": "2023-10-17T10:43:47.399078Z",
     "iopub.status.idle": "2023-10-17T10:43:47.409246Z",
     "shell.execute_reply": "2023-10-17T10:43:47.408063Z"
    },
    "papermill": {
     "duration": 0.019124,
     "end_time": "2023-10-17T10:43:47.411480",
     "exception": false,
     "start_time": "2023-10-17T10:43:47.392356",
     "status": "completed"
    },
    "tags": []
   },
   "outputs": [],
   "source": [
    "# segregrating categoricl and numerical column\n",
    "categorical_columns = []\n",
    "numerical_columns = []\n",
    "for i in train_df.columns:\n",
    "    if train_df[i].dtype == 'O':\n",
    "        categorical_columns.append(i)\n",
    "    else:\n",
    "        numerical_columns.append(i)"
   ]
  },
  {
   "cell_type": "code",
   "execution_count": 9,
   "id": "9de6fea2",
   "metadata": {
    "execution": {
     "iopub.execute_input": "2023-10-17T10:43:47.423177Z",
     "iopub.status.busy": "2023-10-17T10:43:47.422637Z",
     "iopub.status.idle": "2023-10-17T10:43:47.426849Z",
     "shell.execute_reply": "2023-10-17T10:43:47.425878Z"
    },
    "papermill": {
     "duration": 0.012503,
     "end_time": "2023-10-17T10:43:47.428931",
     "exception": false,
     "start_time": "2023-10-17T10:43:47.416428",
     "status": "completed"
    },
    "tags": []
   },
   "outputs": [],
   "source": [
    "categorical_columns.remove('id')\n",
    "numerical_columns.remove('event_id')\n"
   ]
  },
  {
   "cell_type": "code",
   "execution_count": 10,
   "id": "84aae001",
   "metadata": {
    "execution": {
     "iopub.execute_input": "2023-10-17T10:43:47.440677Z",
     "iopub.status.busy": "2023-10-17T10:43:47.439835Z",
     "iopub.status.idle": "2023-10-17T10:43:47.443940Z",
     "shell.execute_reply": "2023-10-17T10:43:47.442963Z"
    },
    "papermill": {
     "duration": 0.012272,
     "end_time": "2023-10-17T10:43:47.446065",
     "exception": false,
     "start_time": "2023-10-17T10:43:47.433793",
     "status": "completed"
    },
    "tags": []
   },
   "outputs": [],
   "source": [
    "# print(categorical_columns)\n",
    "# print(numerical_columns)"
   ]
  },
  {
   "cell_type": "code",
   "execution_count": 11,
   "id": "5109cdfd",
   "metadata": {
    "execution": {
     "iopub.execute_input": "2023-10-17T10:43:47.457381Z",
     "iopub.status.busy": "2023-10-17T10:43:47.457000Z",
     "iopub.status.idle": "2023-10-17T10:43:47.461245Z",
     "shell.execute_reply": "2023-10-17T10:43:47.460219Z"
    },
    "papermill": {
     "duration": 0.012339,
     "end_time": "2023-10-17T10:43:47.463356",
     "exception": false,
     "start_time": "2023-10-17T10:43:47.451017",
     "status": "completed"
    },
    "tags": []
   },
   "outputs": [],
   "source": [
    "# for i in categorical_columns:\n",
    "#     print (i)\n",
    "#     print(train_df[i].unique())\n",
    "#     print(\"--------------------------------------------\")"
   ]
  },
  {
   "cell_type": "code",
   "execution_count": 12,
   "id": "71d53846",
   "metadata": {
    "execution": {
     "iopub.execute_input": "2023-10-17T10:43:47.475027Z",
     "iopub.status.busy": "2023-10-17T10:43:47.474402Z",
     "iopub.status.idle": "2023-10-17T10:43:47.489833Z",
     "shell.execute_reply": "2023-10-17T10:43:47.488873Z"
    },
    "papermill": {
     "duration": 0.023729,
     "end_time": "2023-10-17T10:43:47.492000",
     "exception": false,
     "start_time": "2023-10-17T10:43:47.468271",
     "status": "completed"
    },
    "tags": []
   },
   "outputs": [],
   "source": [
    "# Creating categorical features at id level for all the categorical columns\n",
    "# Below are helper functions that will be utilized to create the categorical features\n",
    "# returns a dataframe with index and all the unique value of categorical columns as columns as defined \n",
    "# in below list\n",
    "\n",
    "from collections import Counter\n",
    "\n",
    "activities = ['Input', 'Remove/Cut', 'Nonproduction', 'Replace', 'Paste','Move from','Other']\n",
    "events = ['q', 'Space', 'Backspace', 'Shift', 'ArrowRight', 'Leftclick', 'ArrowLeft', '.', ',', 'ArrowDown', 'ArrowUp', 'Enter', 'CapsLock', \"'\", 'Delete', 'Other']\n",
    "text_changes = ['q', ' ', 'NoChange', '.', ',', '\\n', \"'\", '\"', '-', '?', ';', '=', '/', '\\\\', ':','Other']\n",
    "    \n",
    "\n",
    "def activity_counts(df,col):\n",
    "    # Agrregrating column on 'Move from'\n",
    "    df[col]  = df[col].apply(lambda x : 'Move From' if 'Move From' in x else x)\n",
    "    temp_df = df.groupby('id').agg({col: list}).reset_index()\n",
    "    final_count = []\n",
    "    for rows,ids in list(zip(temp_df[col].values,temp_df['id'].values)):\n",
    "        items = list(Counter(rows).items())\n",
    "        di = {}\n",
    "        di['id'] = ids\n",
    "        for act in activities:\n",
    "            di[act] = 0\n",
    "        for act,count in items:\n",
    "            if act in di:\n",
    "                di[act] = count\n",
    "            else:\n",
    "                di['Other'] += count\n",
    "        final_count.append(di)\n",
    "    final_count = pd.DataFrame(final_count)\n",
    "    new_cols = [f'{col}_{i}' if i !='id' else i for i in final_count.columns ]\n",
    "    final_count.columns = new_cols\n",
    "\n",
    "    return final_count\n",
    "        \n",
    "# Same function for down and up\n",
    "def event_counts(df,col):\n",
    "    temp_df = df.groupby('id').agg({col: list}).reset_index()\n",
    "    final_count = []\n",
    "    for rows,ids in list(zip(temp_df[col].values,temp_df['id'].values)):\n",
    "        items = list(Counter(rows).items())\n",
    "        di = {}\n",
    "        di['id'] = ids\n",
    "        for act in events:\n",
    "            di[act] = 0\n",
    "        for act,count in items:\n",
    "            if act in di:\n",
    "                di[act] = count\n",
    "            else:\n",
    "                di['Other'] += count\n",
    "        final_count.append(di)\n",
    "    final_count = pd.DataFrame(final_count)\n",
    "    new_cols = [f'{col}_{l}' if i !='id' else i for l,i in enumerate(final_count.columns) ]\n",
    "    final_count.columns = new_cols\n",
    "\n",
    "    return final_count\n",
    "\n",
    "def text_change(df,col):\n",
    "    temp_df = df.groupby('id').agg({col: list}).reset_index()\n",
    "    final_count = []\n",
    "    for rows,ids in list(zip(temp_df[col].values,temp_df['id'].values)):\n",
    "        items = list(Counter(rows).items())\n",
    "        di = {}\n",
    "        di['id'] = ids\n",
    "        for act in text_changes:\n",
    "            di[act] = 0\n",
    "        for act,count in items:\n",
    "            if act in di:\n",
    "                di[act] = count\n",
    "            else:\n",
    "                di['Other'] += count\n",
    "        final_count.append(di)\n",
    "    final_count = pd.DataFrame(final_count)\n",
    "    new_cols = [f'{col}_{l}' if i !='id' else i for l,i in enumerate(final_count.columns) ]\n",
    "    final_count.columns = new_cols\n",
    "\n",
    "    return final_count"
   ]
  },
  {
   "cell_type": "code",
   "execution_count": 13,
   "id": "d8ec38ba",
   "metadata": {
    "execution": {
     "iopub.execute_input": "2023-10-17T10:43:47.504161Z",
     "iopub.status.busy": "2023-10-17T10:43:47.503549Z",
     "iopub.status.idle": "2023-10-17T10:43:47.515835Z",
     "shell.execute_reply": "2023-10-17T10:43:47.514816Z"
    },
    "papermill": {
     "duration": 0.02102,
     "end_time": "2023-10-17T10:43:47.518057",
     "exception": false,
     "start_time": "2023-10-17T10:43:47.497037",
     "status": "completed"
    },
    "tags": []
   },
   "outputs": [],
   "source": [
    "def pre_process(df):\n",
    "    \n",
    "    data = pd.DataFrame()\n",
    "    df[\"total_event_time\"] = df[\"up_time\"]-df[\"down_time\"]\n",
    "    data['events'] = df.groupby('id')['event_id'].max()\n",
    "    data['up_time_sum'] = df.groupby('id')['up_time'].sum()\n",
    "    data['up_time_mean'] = df.groupby('id')['up_time'].mean()\n",
    "    data['up_time_std'] = df.groupby('id')['up_time'].std()\n",
    "\n",
    "    data['down_time_sum'] = df.groupby('id')['down_time'].sum()\n",
    "    data['down_time_mean'] = df.groupby('id')['down_time'].mean()\n",
    "    data['down_time_std'] = df.groupby('id')['down_time'].std()\n",
    "    \n",
    "    data['event_time_sum'] = df.groupby('id')['total_event_time'].sum()\n",
    "    data['event_time_mean'] = df.groupby('id')['total_event_time'].mean()\n",
    "    data['event_time_std'] = df.groupby('id')['total_event_time'].std()\n",
    "\n",
    "    data['action_time_sum'] = df.groupby('id')['action_time'].sum()\n",
    "    data['action_time_max'] = df.groupby('id')['action_time'].max()\n",
    "    data['action_time_mean'] = df.groupby('id')['action_time'].mean()\n",
    "    data['action_time_std'] = df.groupby('id')['action_time'].std()\n",
    "\n",
    "    data['down_up_ratio'] = df.groupby('id')['down_time'].mean() / df.groupby('id')['up_time'].mean()\n",
    "    data['down_action_ratio'] = df.groupby('id')['down_time'].mean() / df.groupby('id')['action_time'].mean()\n",
    "    data['up_action_ratio'] = df.groupby('id')['up_time'].mean() / df.groupby('id')['action_time'].mean()\n",
    "\n",
    "    data['down_event_nunique'] = df.groupby('id')['down_event'].nunique()\n",
    "    data['up_event_nunique'] = df.groupby('id')['up_event'].nunique()\n",
    "    \n",
    "    data['cursor_position_nunique'] = df.groupby('id')['cursor_position'].nunique()\n",
    "    data['cursor_position_median'] = df.groupby('id')['cursor_position'].median()\n",
    "    data['cursor_position_max'] = df.groupby('id')['cursor_position'].max()\n",
    "\n",
    "    data['word_count_max'] = df.groupby('id')['word_count'].max()\n",
    "    data['word_count_mean'] = df.groupby('id')['word_count'].mean()\n",
    "    \n",
    "    data = data.reset_index()\n",
    "    temp1 = activity_counts(df,'activity')\n",
    "    \n",
    "    return_df = pd.merge(data,temp1,how='inner',on='id')\n",
    "    del temp1\n",
    "    \n",
    "    \n",
    "    temp2 = event_counts(df,'down_event')\n",
    "    return_df = pd.merge(return_df,temp2,how='inner',on='id')\n",
    "    del temp2\n",
    "\n",
    "    temp3 = event_counts(df,'up_event')\n",
    "    return_df = pd.merge(return_df,temp3,how='inner',on='id')\n",
    "    del temp3\n",
    "\n",
    "    temp4 = text_change(df,'text_change')\n",
    "    return_df = pd.merge(return_df,temp4,how='inner',on='id')\n",
    "    del temp4\n",
    "\n",
    "    \n",
    "    return_df.set_index('id',inplace=True)\n",
    "    \n",
    "    return return_df"
   ]
  },
  {
   "cell_type": "code",
   "execution_count": 14,
   "id": "0f2b4f65",
   "metadata": {
    "execution": {
     "iopub.execute_input": "2023-10-17T10:43:47.529783Z",
     "iopub.status.busy": "2023-10-17T10:43:47.529178Z",
     "iopub.status.idle": "2023-10-17T10:44:20.398391Z",
     "shell.execute_reply": "2023-10-17T10:44:20.397106Z"
    },
    "papermill": {
     "duration": 32.877908,
     "end_time": "2023-10-17T10:44:20.400977",
     "exception": false,
     "start_time": "2023-10-17T10:43:47.523069",
     "status": "completed"
    },
    "tags": []
   },
   "outputs": [],
   "source": [
    "X_train = pre_process(train_df)\n",
    "Y_train = train_scores.set_index('id')\n",
    "df_train = X_train.join(Y_train)"
   ]
  },
  {
   "cell_type": "code",
   "execution_count": 15,
   "id": "a730250f",
   "metadata": {
    "execution": {
     "iopub.execute_input": "2023-10-17T10:44:20.412671Z",
     "iopub.status.busy": "2023-10-17T10:44:20.412305Z",
     "iopub.status.idle": "2023-10-17T10:44:20.416868Z",
     "shell.execute_reply": "2023-10-17T10:44:20.415937Z"
    },
    "papermill": {
     "duration": 0.012995,
     "end_time": "2023-10-17T10:44:20.419141",
     "exception": false,
     "start_time": "2023-10-17T10:44:20.406146",
     "status": "completed"
    },
    "tags": []
   },
   "outputs": [],
   "source": [
    "#X_train"
   ]
  },
  {
   "cell_type": "markdown",
   "id": "89dbc4cb",
   "metadata": {
    "papermill": {
     "duration": 0.004571,
     "end_time": "2023-10-17T10:44:20.429209",
     "exception": false,
     "start_time": "2023-10-17T10:44:20.424638",
     "status": "completed"
    },
    "tags": []
   },
   "source": [
    "## FITTING THE MODEL"
   ]
  },
  {
   "cell_type": "code",
   "execution_count": 16,
   "id": "f270146f",
   "metadata": {
    "execution": {
     "iopub.execute_input": "2023-10-17T10:44:20.440715Z",
     "iopub.status.busy": "2023-10-17T10:44:20.440034Z",
     "iopub.status.idle": "2023-10-17T10:44:21.808863Z",
     "shell.execute_reply": "2023-10-17T10:44:21.807713Z"
    },
    "papermill": {
     "duration": 1.37714,
     "end_time": "2023-10-17T10:44:21.811108",
     "exception": false,
     "start_time": "2023-10-17T10:44:20.433968",
     "status": "completed"
    },
    "tags": []
   },
   "outputs": [],
   "source": [
    "from sklearn.model_selection import train_test_split\n",
    "\n",
    "X_train,X_test,y_train,y_test =train_test_split(df_train.iloc[:,:-1],df_train.iloc[:,-1],test_size = 0.3)"
   ]
  },
  {
   "cell_type": "code",
   "execution_count": 17,
   "id": "b738f869",
   "metadata": {
    "execution": {
     "iopub.execute_input": "2023-10-17T10:44:21.822946Z",
     "iopub.status.busy": "2023-10-17T10:44:21.822159Z",
     "iopub.status.idle": "2023-10-17T10:44:24.972992Z",
     "shell.execute_reply": "2023-10-17T10:44:24.972046Z"
    },
    "papermill": {
     "duration": 3.159199,
     "end_time": "2023-10-17T10:44:24.975209",
     "exception": false,
     "start_time": "2023-10-17T10:44:21.816010",
     "status": "completed"
    },
    "tags": []
   },
   "outputs": [
    {
     "name": "stderr",
     "output_type": "stream",
     "text": [
      "/opt/conda/lib/python3.10/site-packages/lightgbm/sklearn.py:726: UserWarning: 'early_stopping_rounds' argument is deprecated and will be removed in a future release of LightGBM. Pass 'early_stopping()' callback via 'callbacks' argument instead.\n",
      "  _log_warning(\"'early_stopping_rounds' argument is deprecated and will be removed in a future release of LightGBM. \"\n",
      "/opt/conda/lib/python3.10/site-packages/lightgbm/sklearn.py:736: UserWarning: 'verbose' argument is deprecated and will be removed in a future release of LightGBM. Pass 'log_evaluation()' callback via 'callbacks' argument instead.\n",
      "  _log_warning(\"'verbose' argument is deprecated and will be removed in a future release of LightGBM. \"\n"
     ]
    }
   ],
   "source": [
    "from sklearn.metrics import mean_squared_error, mean_absolute_error\n",
    "import lightgbm as lgb\n",
    "params_lgbm = {\n",
    "        'n_estimators': 1140, 'max_depth': 3, 'learning_rate': 0.012192985298639868,\n",
    "               'min_child_weight': 2.5028737839599557, 'min_child_samples': 40,\n",
    "               'subsample': 0.5833615591152317, 'subsample_freq': 1, 'colsample_bytree': 0.734238785736391\n",
    "    }\n",
    "model = lgb.LGBMRegressor(**params_lgbm)\n",
    "model.fit(X_train,y_train,eval_set=[(X_test,y_test)],early_stopping_rounds=100,verbose=False)\n",
    "preds  = model.predict(X_test)\n"
   ]
  },
  {
   "cell_type": "code",
   "execution_count": 18,
   "id": "75827a2a",
   "metadata": {
    "execution": {
     "iopub.execute_input": "2023-10-17T10:44:24.987443Z",
     "iopub.status.busy": "2023-10-17T10:44:24.986394Z",
     "iopub.status.idle": "2023-10-17T10:44:24.995721Z",
     "shell.execute_reply": "2023-10-17T10:44:24.994620Z"
    },
    "papermill": {
     "duration": 0.017609,
     "end_time": "2023-10-17T10:44:24.997826",
     "exception": false,
     "start_time": "2023-10-17T10:44:24.980217",
     "status": "completed"
    },
    "tags": []
   },
   "outputs": [
    {
     "name": "stdout",
     "output_type": "stream",
     "text": [
      "MAE: 0.5099164655846522\n",
      "MSE: 0.4290147708095189\n",
      "RMSE: 0.6549921914111029\n"
     ]
    }
   ],
   "source": [
    "print(\"MAE:\",mean_absolute_error(y_test,preds))\n",
    "print(\"MSE:\",mean_squared_error(y_test,preds))\n",
    "print(\"RMSE:\",mean_squared_error(y_test,preds,squared=False))"
   ]
  },
  {
   "cell_type": "markdown",
   "id": "f2289f9f",
   "metadata": {
    "papermill": {
     "duration": 0.00508,
     "end_time": "2023-10-17T10:44:25.008643",
     "exception": false,
     "start_time": "2023-10-17T10:44:25.003563",
     "status": "completed"
    },
    "tags": []
   },
   "source": [
    "## SUBMISSION"
   ]
  },
  {
   "cell_type": "code",
   "execution_count": 19,
   "id": "0948701d",
   "metadata": {
    "execution": {
     "iopub.execute_input": "2023-10-17T10:44:25.021555Z",
     "iopub.status.busy": "2023-10-17T10:44:25.020367Z",
     "iopub.status.idle": "2023-10-17T10:44:25.074274Z",
     "shell.execute_reply": "2023-10-17T10:44:25.073451Z"
    },
    "papermill": {
     "duration": 0.062938,
     "end_time": "2023-10-17T10:44:25.076607",
     "exception": false,
     "start_time": "2023-10-17T10:44:25.013669",
     "status": "completed"
    },
    "tags": []
   },
   "outputs": [],
   "source": [
    "sub_df = pre_process(test_df)\n",
    "sub_predict = model.predict(sub_df)\n",
    "sub_dict = {'id':sub_df.index, 'score':sub_predict}\n",
    "sub_df = pd.DataFrame(sub_dict)\n",
    "sub_df.to_csv(\"submission.csv\",index=False)"
   ]
  },
  {
   "cell_type": "code",
   "execution_count": null,
   "id": "ef3be60b",
   "metadata": {
    "papermill": {
     "duration": 0.004916,
     "end_time": "2023-10-17T10:44:25.086872",
     "exception": false,
     "start_time": "2023-10-17T10:44:25.081956",
     "status": "completed"
    },
    "tags": []
   },
   "outputs": [],
   "source": []
  }
 ],
 "metadata": {
  "kernelspec": {
   "display_name": "Python 3",
   "language": "python",
   "name": "python3"
  },
  "language_info": {
   "codemirror_mode": {
    "name": "ipython",
    "version": 3
   },
   "file_extension": ".py",
   "mimetype": "text/x-python",
   "name": "python",
   "nbconvert_exporter": "python",
   "pygments_lexer": "ipython3",
   "version": "3.10.12"
  },
  "papermill": {
   "default_parameters": {},
   "duration": 56.130883,
   "end_time": "2023-10-17T10:44:26.016231",
   "environment_variables": {},
   "exception": null,
   "input_path": "__notebook__.ipynb",
   "output_path": "__notebook__.ipynb",
   "parameters": {},
   "start_time": "2023-10-17T10:43:29.885348",
   "version": "2.4.0"
  }
 },
 "nbformat": 4,
 "nbformat_minor": 5
}
