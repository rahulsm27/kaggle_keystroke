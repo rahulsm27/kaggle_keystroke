{
 "cells": [
  {
   "cell_type": "code",
   "execution_count": 1,
   "id": "b2241673",
   "metadata": {
    "_cell_guid": "b1076dfc-b9ad-4769-8c92-a6c4dae69d19",
    "_uuid": "8f2839f25d086af736a60e9eeb907d3b93b6e0e5",
    "execution": {
     "iopub.execute_input": "2023-10-16T06:52:51.559865Z",
     "iopub.status.busy": "2023-10-16T06:52:51.559510Z",
     "iopub.status.idle": "2023-10-16T06:52:52.465806Z",
     "shell.execute_reply": "2023-10-16T06:52:52.464201Z"
    },
    "papermill": {
     "duration": 0.915793,
     "end_time": "2023-10-16T06:52:52.468229",
     "exception": false,
     "start_time": "2023-10-16T06:52:51.552436",
     "status": "completed"
    },
    "tags": []
   },
   "outputs": [
    {
     "name": "stdout",
     "output_type": "stream",
     "text": [
      "/kaggle/input/linking-writing-processes-to-writing-quality/sample_submission.csv\n",
      "/kaggle/input/linking-writing-processes-to-writing-quality/test_logs.csv\n",
      "/kaggle/input/linking-writing-processes-to-writing-quality/train_scores.csv\n",
      "/kaggle/input/linking-writing-processes-to-writing-quality/train_logs.csv\n"
     ]
    }
   ],
   "source": [
    "# This Python 3 environment comes with many helpful analytics libraries installed\n",
    "# It is defined by the kaggle/python Docker image: https://github.com/kaggle/docker-python\n",
    "# For example, here's several helpful packages to load\n",
    "\n",
    "import numpy as np # linear algebra\n",
    "import pandas as pd # data processing, CSV file I/O (e.g. pd.read_csv)\n",
    "import tqdm\n",
    "\n",
    "# Input data files are available in the read-only \"../input/\" directory\n",
    "# For example, running this (by clicking run or pressing Shift+Enter) will list all files under the input directory\n",
    "\n",
    "import os\n",
    "for dirname, _, filenames in os.walk('/kaggle/input'):\n",
    "    for filename in filenames:\n",
    "        print(os.path.join(dirname, filename))\n",
    "\n",
    "# You can write up to 20GB to the current directory (/kaggle/working/) that gets preserved as output when you create a version using \"Save & Run All\" \n",
    "# You can also write temporary files to /kaggle/temp/, but they won't be saved outside of the current session"
   ]
  },
  {
   "cell_type": "markdown",
   "id": "6d0ffc5d",
   "metadata": {
    "papermill": {
     "duration": 0.004466,
     "end_time": "2023-10-16T06:52:52.477637",
     "exception": false,
     "start_time": "2023-10-16T06:52:52.473171",
     "status": "completed"
    },
    "tags": []
   },
   "source": [
    "## 1. EDA"
   ]
  },
  {
   "cell_type": "code",
   "execution_count": 2,
   "id": "2ce37d87",
   "metadata": {
    "execution": {
     "iopub.execute_input": "2023-10-16T06:52:52.490208Z",
     "iopub.status.busy": "2023-10-16T06:52:52.489680Z",
     "iopub.status.idle": "2023-10-16T06:53:06.756315Z",
     "shell.execute_reply": "2023-10-16T06:53:06.755002Z"
    },
    "papermill": {
     "duration": 14.275322,
     "end_time": "2023-10-16T06:53:06.758907",
     "exception": false,
     "start_time": "2023-10-16T06:52:52.483585",
     "status": "completed"
    },
    "tags": []
   },
   "outputs": [],
   "source": [
    "# Reading the files\n",
    "train_df = pd.read_csv('/kaggle/input/linking-writing-processes-to-writing-quality/train_logs.csv')\n",
    "test_df = pd.read_csv('/kaggle/input/linking-writing-processes-to-writing-quality/test_logs.csv')\n",
    "train_scores = pd.read_csv('/kaggle/input/linking-writing-processes-to-writing-quality/train_scores.csv')"
   ]
  },
  {
   "cell_type": "code",
   "execution_count": 3,
   "id": "83a42724",
   "metadata": {
    "execution": {
     "iopub.execute_input": "2023-10-16T06:53:06.770167Z",
     "iopub.status.busy": "2023-10-16T06:53:06.769780Z",
     "iopub.status.idle": "2023-10-16T06:53:06.808807Z",
     "shell.execute_reply": "2023-10-16T06:53:06.807604Z"
    },
    "papermill": {
     "duration": 0.047231,
     "end_time": "2023-10-16T06:53:06.811103",
     "exception": false,
     "start_time": "2023-10-16T06:53:06.763872",
     "status": "completed"
    },
    "tags": []
   },
   "outputs": [
    {
     "data": {
      "text/html": [
       "<div>\n",
       "<style scoped>\n",
       "    .dataframe tbody tr th:only-of-type {\n",
       "        vertical-align: middle;\n",
       "    }\n",
       "\n",
       "    .dataframe tbody tr th {\n",
       "        vertical-align: top;\n",
       "    }\n",
       "\n",
       "    .dataframe thead th {\n",
       "        text-align: right;\n",
       "    }\n",
       "</style>\n",
       "<table border=\"1\" class=\"dataframe\">\n",
       "  <thead>\n",
       "    <tr style=\"text-align: right;\">\n",
       "      <th></th>\n",
       "      <th>id</th>\n",
       "      <th>event_id</th>\n",
       "      <th>down_time</th>\n",
       "      <th>up_time</th>\n",
       "      <th>action_time</th>\n",
       "      <th>activity</th>\n",
       "      <th>down_event</th>\n",
       "      <th>up_event</th>\n",
       "      <th>text_change</th>\n",
       "      <th>cursor_position</th>\n",
       "      <th>word_count</th>\n",
       "    </tr>\n",
       "  </thead>\n",
       "  <tbody>\n",
       "    <tr>\n",
       "      <th>0</th>\n",
       "      <td>001519c8</td>\n",
       "      <td>1</td>\n",
       "      <td>4526</td>\n",
       "      <td>4557</td>\n",
       "      <td>31</td>\n",
       "      <td>Nonproduction</td>\n",
       "      <td>Leftclick</td>\n",
       "      <td>Leftclick</td>\n",
       "      <td>NoChange</td>\n",
       "      <td>0</td>\n",
       "      <td>0</td>\n",
       "    </tr>\n",
       "    <tr>\n",
       "      <th>1</th>\n",
       "      <td>001519c8</td>\n",
       "      <td>2</td>\n",
       "      <td>4558</td>\n",
       "      <td>4962</td>\n",
       "      <td>404</td>\n",
       "      <td>Nonproduction</td>\n",
       "      <td>Leftclick</td>\n",
       "      <td>Leftclick</td>\n",
       "      <td>NoChange</td>\n",
       "      <td>0</td>\n",
       "      <td>0</td>\n",
       "    </tr>\n",
       "    <tr>\n",
       "      <th>2</th>\n",
       "      <td>001519c8</td>\n",
       "      <td>3</td>\n",
       "      <td>106571</td>\n",
       "      <td>106571</td>\n",
       "      <td>0</td>\n",
       "      <td>Nonproduction</td>\n",
       "      <td>Shift</td>\n",
       "      <td>Shift</td>\n",
       "      <td>NoChange</td>\n",
       "      <td>0</td>\n",
       "      <td>0</td>\n",
       "    </tr>\n",
       "    <tr>\n",
       "      <th>3</th>\n",
       "      <td>001519c8</td>\n",
       "      <td>4</td>\n",
       "      <td>106686</td>\n",
       "      <td>106777</td>\n",
       "      <td>91</td>\n",
       "      <td>Input</td>\n",
       "      <td>q</td>\n",
       "      <td>q</td>\n",
       "      <td>q</td>\n",
       "      <td>1</td>\n",
       "      <td>1</td>\n",
       "    </tr>\n",
       "    <tr>\n",
       "      <th>4</th>\n",
       "      <td>001519c8</td>\n",
       "      <td>5</td>\n",
       "      <td>107196</td>\n",
       "      <td>107323</td>\n",
       "      <td>127</td>\n",
       "      <td>Input</td>\n",
       "      <td>q</td>\n",
       "      <td>q</td>\n",
       "      <td>q</td>\n",
       "      <td>2</td>\n",
       "      <td>1</td>\n",
       "    </tr>\n",
       "    <tr>\n",
       "      <th>...</th>\n",
       "      <td>...</td>\n",
       "      <td>...</td>\n",
       "      <td>...</td>\n",
       "      <td>...</td>\n",
       "      <td>...</td>\n",
       "      <td>...</td>\n",
       "      <td>...</td>\n",
       "      <td>...</td>\n",
       "      <td>...</td>\n",
       "      <td>...</td>\n",
       "      <td>...</td>\n",
       "    </tr>\n",
       "    <tr>\n",
       "      <th>8405893</th>\n",
       "      <td>fff05981</td>\n",
       "      <td>3615</td>\n",
       "      <td>2063944</td>\n",
       "      <td>2064440</td>\n",
       "      <td>496</td>\n",
       "      <td>Nonproduction</td>\n",
       "      <td>Leftclick</td>\n",
       "      <td>Leftclick</td>\n",
       "      <td>NoChange</td>\n",
       "      <td>1031</td>\n",
       "      <td>240</td>\n",
       "    </tr>\n",
       "    <tr>\n",
       "      <th>8405894</th>\n",
       "      <td>fff05981</td>\n",
       "      <td>3616</td>\n",
       "      <td>2064497</td>\n",
       "      <td>2064497</td>\n",
       "      <td>0</td>\n",
       "      <td>Nonproduction</td>\n",
       "      <td>Shift</td>\n",
       "      <td>Shift</td>\n",
       "      <td>NoChange</td>\n",
       "      <td>1031</td>\n",
       "      <td>240</td>\n",
       "    </tr>\n",
       "    <tr>\n",
       "      <th>8405895</th>\n",
       "      <td>fff05981</td>\n",
       "      <td>3617</td>\n",
       "      <td>2064657</td>\n",
       "      <td>2064765</td>\n",
       "      <td>108</td>\n",
       "      <td>Replace</td>\n",
       "      <td>q</td>\n",
       "      <td>q</td>\n",
       "      <td>q =&gt; q</td>\n",
       "      <td>1031</td>\n",
       "      <td>240</td>\n",
       "    </tr>\n",
       "    <tr>\n",
       "      <th>8405896</th>\n",
       "      <td>fff05981</td>\n",
       "      <td>3618</td>\n",
       "      <td>2069186</td>\n",
       "      <td>2069259</td>\n",
       "      <td>73</td>\n",
       "      <td>Nonproduction</td>\n",
       "      <td>Leftclick</td>\n",
       "      <td>Leftclick</td>\n",
       "      <td>NoChange</td>\n",
       "      <td>1028</td>\n",
       "      <td>240</td>\n",
       "    </tr>\n",
       "    <tr>\n",
       "      <th>8405897</th>\n",
       "      <td>fff05981</td>\n",
       "      <td>3619</td>\n",
       "      <td>2070065</td>\n",
       "      <td>2070133</td>\n",
       "      <td>68</td>\n",
       "      <td>Input</td>\n",
       "      <td>.</td>\n",
       "      <td>.</td>\n",
       "      <td>.</td>\n",
       "      <td>1029</td>\n",
       "      <td>240</td>\n",
       "    </tr>\n",
       "  </tbody>\n",
       "</table>\n",
       "<p>8405898 rows × 11 columns</p>\n",
       "</div>"
      ],
      "text/plain": [
       "               id  event_id  down_time  up_time  action_time       activity  \\\n",
       "0        001519c8         1       4526     4557           31  Nonproduction   \n",
       "1        001519c8         2       4558     4962          404  Nonproduction   \n",
       "2        001519c8         3     106571   106571            0  Nonproduction   \n",
       "3        001519c8         4     106686   106777           91          Input   \n",
       "4        001519c8         5     107196   107323          127          Input   \n",
       "...           ...       ...        ...      ...          ...            ...   \n",
       "8405893  fff05981      3615    2063944  2064440          496  Nonproduction   \n",
       "8405894  fff05981      3616    2064497  2064497            0  Nonproduction   \n",
       "8405895  fff05981      3617    2064657  2064765          108        Replace   \n",
       "8405896  fff05981      3618    2069186  2069259           73  Nonproduction   \n",
       "8405897  fff05981      3619    2070065  2070133           68          Input   \n",
       "\n",
       "        down_event   up_event text_change  cursor_position  word_count  \n",
       "0        Leftclick  Leftclick    NoChange                0           0  \n",
       "1        Leftclick  Leftclick    NoChange                0           0  \n",
       "2            Shift      Shift    NoChange                0           0  \n",
       "3                q          q           q                1           1  \n",
       "4                q          q           q                2           1  \n",
       "...            ...        ...         ...              ...         ...  \n",
       "8405893  Leftclick  Leftclick    NoChange             1031         240  \n",
       "8405894      Shift      Shift    NoChange             1031         240  \n",
       "8405895          q          q      q => q             1031         240  \n",
       "8405896  Leftclick  Leftclick    NoChange             1028         240  \n",
       "8405897          .          .           .             1029         240  \n",
       "\n",
       "[8405898 rows x 11 columns]"
      ]
     },
     "execution_count": 3,
     "metadata": {},
     "output_type": "execute_result"
    }
   ],
   "source": [
    "# checking train_df and train_scores\n",
    "train_df"
   ]
  },
  {
   "cell_type": "code",
   "execution_count": 4,
   "id": "df525d77",
   "metadata": {
    "execution": {
     "iopub.execute_input": "2023-10-16T06:53:06.825235Z",
     "iopub.status.busy": "2023-10-16T06:53:06.824031Z",
     "iopub.status.idle": "2023-10-16T06:53:06.836952Z",
     "shell.execute_reply": "2023-10-16T06:53:06.835846Z"
    },
    "papermill": {
     "duration": 0.022707,
     "end_time": "2023-10-16T06:53:06.839536",
     "exception": false,
     "start_time": "2023-10-16T06:53:06.816829",
     "status": "completed"
    },
    "tags": []
   },
   "outputs": [
    {
     "data": {
      "text/html": [
       "<div>\n",
       "<style scoped>\n",
       "    .dataframe tbody tr th:only-of-type {\n",
       "        vertical-align: middle;\n",
       "    }\n",
       "\n",
       "    .dataframe tbody tr th {\n",
       "        vertical-align: top;\n",
       "    }\n",
       "\n",
       "    .dataframe thead th {\n",
       "        text-align: right;\n",
       "    }\n",
       "</style>\n",
       "<table border=\"1\" class=\"dataframe\">\n",
       "  <thead>\n",
       "    <tr style=\"text-align: right;\">\n",
       "      <th></th>\n",
       "      <th>id</th>\n",
       "      <th>score</th>\n",
       "    </tr>\n",
       "  </thead>\n",
       "  <tbody>\n",
       "    <tr>\n",
       "      <th>0</th>\n",
       "      <td>001519c8</td>\n",
       "      <td>3.5</td>\n",
       "    </tr>\n",
       "    <tr>\n",
       "      <th>1</th>\n",
       "      <td>0022f953</td>\n",
       "      <td>3.5</td>\n",
       "    </tr>\n",
       "    <tr>\n",
       "      <th>2</th>\n",
       "      <td>0042269b</td>\n",
       "      <td>6.0</td>\n",
       "    </tr>\n",
       "    <tr>\n",
       "      <th>3</th>\n",
       "      <td>0059420b</td>\n",
       "      <td>2.0</td>\n",
       "    </tr>\n",
       "    <tr>\n",
       "      <th>4</th>\n",
       "      <td>0075873a</td>\n",
       "      <td>4.0</td>\n",
       "    </tr>\n",
       "    <tr>\n",
       "      <th>...</th>\n",
       "      <td>...</td>\n",
       "      <td>...</td>\n",
       "    </tr>\n",
       "    <tr>\n",
       "      <th>2466</th>\n",
       "      <td>ffb8c745</td>\n",
       "      <td>3.5</td>\n",
       "    </tr>\n",
       "    <tr>\n",
       "      <th>2467</th>\n",
       "      <td>ffbef7e5</td>\n",
       "      <td>4.0</td>\n",
       "    </tr>\n",
       "    <tr>\n",
       "      <th>2468</th>\n",
       "      <td>ffccd6fd</td>\n",
       "      <td>1.5</td>\n",
       "    </tr>\n",
       "    <tr>\n",
       "      <th>2469</th>\n",
       "      <td>ffec5b38</td>\n",
       "      <td>5.0</td>\n",
       "    </tr>\n",
       "    <tr>\n",
       "      <th>2470</th>\n",
       "      <td>fff05981</td>\n",
       "      <td>4.0</td>\n",
       "    </tr>\n",
       "  </tbody>\n",
       "</table>\n",
       "<p>2471 rows × 2 columns</p>\n",
       "</div>"
      ],
      "text/plain": [
       "            id  score\n",
       "0     001519c8    3.5\n",
       "1     0022f953    3.5\n",
       "2     0042269b    6.0\n",
       "3     0059420b    2.0\n",
       "4     0075873a    4.0\n",
       "...        ...    ...\n",
       "2466  ffb8c745    3.5\n",
       "2467  ffbef7e5    4.0\n",
       "2468  ffccd6fd    1.5\n",
       "2469  ffec5b38    5.0\n",
       "2470  fff05981    4.0\n",
       "\n",
       "[2471 rows x 2 columns]"
      ]
     },
     "execution_count": 4,
     "metadata": {},
     "output_type": "execute_result"
    }
   ],
   "source": [
    "train_scores"
   ]
  },
  {
   "cell_type": "code",
   "execution_count": 5,
   "id": "8e8bdcf0",
   "metadata": {
    "execution": {
     "iopub.execute_input": "2023-10-16T06:53:06.851997Z",
     "iopub.status.busy": "2023-10-16T06:53:06.851644Z",
     "iopub.status.idle": "2023-10-16T06:53:06.857762Z",
     "shell.execute_reply": "2023-10-16T06:53:06.856916Z"
    },
    "papermill": {
     "duration": 0.014923,
     "end_time": "2023-10-16T06:53:06.859769",
     "exception": false,
     "start_time": "2023-10-16T06:53:06.844846",
     "status": "completed"
    },
    "tags": []
   },
   "outputs": [
    {
     "data": {
      "text/plain": [
       "Index(['id', 'event_id', 'down_time', 'up_time', 'action_time', 'activity',\n",
       "       'down_event', 'up_event', 'text_change', 'cursor_position',\n",
       "       'word_count'],\n",
       "      dtype='object')"
      ]
     },
     "execution_count": 5,
     "metadata": {},
     "output_type": "execute_result"
    }
   ],
   "source": [
    "# Checking the column list\n",
    "train_df.columns"
   ]
  },
  {
   "cell_type": "code",
   "execution_count": 6,
   "id": "39eece60",
   "metadata": {
    "execution": {
     "iopub.execute_input": "2023-10-16T06:53:06.872466Z",
     "iopub.status.busy": "2023-10-16T06:53:06.872008Z",
     "iopub.status.idle": "2023-10-16T06:53:06.880380Z",
     "shell.execute_reply": "2023-10-16T06:53:06.879184Z"
    },
    "papermill": {
     "duration": 0.017671,
     "end_time": "2023-10-16T06:53:06.882805",
     "exception": false,
     "start_time": "2023-10-16T06:53:06.865134",
     "status": "completed"
    },
    "tags": []
   },
   "outputs": [
    {
     "data": {
      "text/plain": [
       "id                 object\n",
       "event_id            int64\n",
       "down_time           int64\n",
       "up_time             int64\n",
       "action_time         int64\n",
       "activity           object\n",
       "down_event         object\n",
       "up_event           object\n",
       "text_change        object\n",
       "cursor_position     int64\n",
       "word_count          int64\n",
       "dtype: object"
      ]
     },
     "execution_count": 6,
     "metadata": {},
     "output_type": "execute_result"
    }
   ],
   "source": [
    "# Checking data types of each column\n",
    "train_df.dtypes"
   ]
  },
  {
   "cell_type": "code",
   "execution_count": 7,
   "id": "bb63b9b1",
   "metadata": {
    "execution": {
     "iopub.execute_input": "2023-10-16T06:53:06.895788Z",
     "iopub.status.busy": "2023-10-16T06:53:06.895078Z",
     "iopub.status.idle": "2023-10-16T06:53:08.801633Z",
     "shell.execute_reply": "2023-10-16T06:53:08.800414Z"
    },
    "papermill": {
     "duration": 1.9159,
     "end_time": "2023-10-16T06:53:08.804197",
     "exception": false,
     "start_time": "2023-10-16T06:53:06.888297",
     "status": "completed"
    },
    "tags": []
   },
   "outputs": [
    {
     "data": {
      "text/plain": [
       "id                 0\n",
       "event_id           0\n",
       "down_time          0\n",
       "up_time            0\n",
       "action_time        0\n",
       "activity           0\n",
       "down_event         0\n",
       "up_event           0\n",
       "text_change        0\n",
       "cursor_position    0\n",
       "word_count         0\n",
       "dtype: int64"
      ]
     },
     "execution_count": 7,
     "metadata": {},
     "output_type": "execute_result"
    }
   ],
   "source": [
    "# checking for null values\n",
    "train_df.isnull().sum()"
   ]
  },
  {
   "cell_type": "code",
   "execution_count": 8,
   "id": "edb42eb4",
   "metadata": {
    "execution": {
     "iopub.execute_input": "2023-10-16T06:53:08.816671Z",
     "iopub.status.busy": "2023-10-16T06:53:08.816300Z",
     "iopub.status.idle": "2023-10-16T06:53:08.822623Z",
     "shell.execute_reply": "2023-10-16T06:53:08.821431Z"
    },
    "papermill": {
     "duration": 0.015051,
     "end_time": "2023-10-16T06:53:08.824750",
     "exception": false,
     "start_time": "2023-10-16T06:53:08.809699",
     "status": "completed"
    },
    "tags": []
   },
   "outputs": [],
   "source": [
    "# segregrating categoricl and numerical column\n",
    "categorical_columns = []\n",
    "numerical_columns = []\n",
    "for i in train_df.columns:\n",
    "    if train_df[i].dtype == 'O':\n",
    "        categorical_columns.append(i)\n",
    "    else:\n",
    "        numerical_columns.append(i)"
   ]
  },
  {
   "cell_type": "code",
   "execution_count": 9,
   "id": "99515e38",
   "metadata": {
    "execution": {
     "iopub.execute_input": "2023-10-16T06:53:08.837654Z",
     "iopub.status.busy": "2023-10-16T06:53:08.837292Z",
     "iopub.status.idle": "2023-10-16T06:53:08.842578Z",
     "shell.execute_reply": "2023-10-16T06:53:08.841185Z"
    },
    "papermill": {
     "duration": 0.01459,
     "end_time": "2023-10-16T06:53:08.844868",
     "exception": false,
     "start_time": "2023-10-16T06:53:08.830278",
     "status": "completed"
    },
    "tags": []
   },
   "outputs": [],
   "source": [
    "categorical_columns.remove('id')\n",
    "numerical_columns.remove('event_id')\n"
   ]
  },
  {
   "cell_type": "code",
   "execution_count": 10,
   "id": "03d1897d",
   "metadata": {
    "execution": {
     "iopub.execute_input": "2023-10-16T06:53:08.857742Z",
     "iopub.status.busy": "2023-10-16T06:53:08.857092Z",
     "iopub.status.idle": "2023-10-16T06:53:08.863005Z",
     "shell.execute_reply": "2023-10-16T06:53:08.861598Z"
    },
    "papermill": {
     "duration": 0.014667,
     "end_time": "2023-10-16T06:53:08.865066",
     "exception": false,
     "start_time": "2023-10-16T06:53:08.850399",
     "status": "completed"
    },
    "tags": []
   },
   "outputs": [
    {
     "name": "stdout",
     "output_type": "stream",
     "text": [
      "['activity', 'down_event', 'up_event', 'text_change']\n",
      "['down_time', 'up_time', 'action_time', 'cursor_position', 'word_count']\n"
     ]
    }
   ],
   "source": [
    "print(categorical_columns)\n",
    "print(numerical_columns)"
   ]
  },
  {
   "cell_type": "code",
   "execution_count": 11,
   "id": "95c81e12",
   "metadata": {
    "execution": {
     "iopub.execute_input": "2023-10-16T06:53:08.878304Z",
     "iopub.status.busy": "2023-10-16T06:53:08.877589Z",
     "iopub.status.idle": "2023-10-16T06:53:10.611378Z",
     "shell.execute_reply": "2023-10-16T06:53:10.610195Z"
    },
    "papermill": {
     "duration": 1.742853,
     "end_time": "2023-10-16T06:53:10.613609",
     "exception": false,
     "start_time": "2023-10-16T06:53:08.870756",
     "status": "completed"
    },
    "tags": []
   },
   "outputs": [
    {
     "name": "stdout",
     "output_type": "stream",
     "text": [
      "activity\n",
      "['Nonproduction' 'Input' 'Remove/Cut' 'Replace'\n",
      " 'Move From [284, 292] To [282, 290]' 'Move From [287, 289] To [285, 287]'\n",
      " 'Move From [460, 461] To [465, 466]' 'Paste'\n",
      " 'Move From [905, 1314] To [907, 1316]'\n",
      " 'Move From [565, 743] To [669, 847]' 'Move From [669, 847] To [565, 743]'\n",
      " 'Move From [1041, 1121] To [1496, 1576]'\n",
      " 'Move From [1455, 1557] To [1323, 1425]'\n",
      " 'Move From [2268, 2275] To [2247, 2254]'\n",
      " 'Move From [213, 302] To [902, 991]' 'Move From [0, 158] To [234, 392]'\n",
      " 'Move From [460, 465] To [925, 930]' 'Move From [810, 906] To [816, 912]'\n",
      " 'Move From [186, 187] To [184, 185]' 'Move From [140, 272] To [299, 431]'\n",
      " 'Move From [114, 140] To [272, 298]'\n",
      " 'Move From [1386, 1450] To [1445, 1509]'\n",
      " 'Move From [442, 524] To [296, 378]' 'Move From [408, 414] To [390, 396]'\n",
      " 'Move From [1144, 1147] To [1142, 1145]'\n",
      " 'Move From [218, 220] To [206, 208]' 'Move From [164, 165] To [153, 154]'\n",
      " 'Move From [623, 632] To [624, 633]'\n",
      " 'Move From [747, 960] To [1041, 1254]'\n",
      " 'Move From [274, 314] To [299, 339]' 'Move From [624, 625] To [845, 846]'\n",
      " 'Move From [1861, 2063] To [1766, 1968]'\n",
      " 'Move From [1766, 1968] To [1861, 2063]'\n",
      " 'Move From [2091, 2179] To [252, 340]'\n",
      " 'Move From [923, 1077] To [340, 494]' 'Move From [0, 1] To [590, 591]'\n",
      " 'Move From [999, 1000] To [1000, 1001]' 'Move From [13, 65] To [9, 61]'\n",
      " 'Move From [1651, 1769] To [1565, 1683]' 'Move From [61, 136] To [0, 75]'\n",
      " 'Move From [0, 75] To [1, 76]' 'Move From [75, 134] To [304, 363]'\n",
      " 'Move From [289, 355] To [562, 628]'\n",
      " 'Move From [944, 1102] To [1050, 1208]'\n",
      " 'Move From [1306, 1371] To [1061, 1126]'\n",
      " 'Move From [1061, 1126] To [1306, 1371]'\n",
      " 'Move From [1361, 1362] To [1358, 1359]'\n",
      " 'Move From [51, 86] To [109, 144]' 'Move From [134, 169] To [122, 157]'\n",
      " 'Move From [382, 437] To [458, 513]']\n",
      "--------------------------------------------\n",
      "down_event\n",
      "['Leftclick' 'Shift' 'q' 'Space' 'Backspace' '.' ',' 'Enter' 'ArrowLeft'\n",
      " \"'\" ';' 'ArrowRight' '-' '?' 'Tab' '\"' 'ArrowUp' 'ArrowDown' 'Rightclick'\n",
      " '=' 'CapsLock' 'Control' 'c' 'v' '/' 'Delete' ':' 'z' '[' '$' '(' ')' '+'\n",
      " 'Home' 'End' '\\\\' 'Meta' '*' '&' 'AudioVolumeMute' 'x' '!' 'Insert'\n",
      " 'MediaPlayPause' 'NumLock' '%' 'V' '>' 'Alt' 'AudioVolumeUp'\n",
      " 'ContextMenu' 'AudioVolumeDown' 'a' '<' 'PageDown' ']' 'Middleclick' '@'\n",
      " 'F12' 'j' '\\x96' 'Dead' 't' 's' 'n' 'y' '{' 'ScrollLock' '¿' 'Process'\n",
      " '}' 'MediaTrackPrevious' 'MediaTrackNext' 'F3' '^' 'Unidentified'\n",
      " 'Cancel' '2' 'i' 'd' 'r' 'e' '`' '\\x9b' 'm' '#' '~' 'PageUp' 'T' 'A' 'b'\n",
      " 'S' 'ModeChange' '_' 'Escape' 'F11' 'Unknownclick' 'AltGraph' 'F10' 'h'\n",
      " 'F15' 'Clear' 'OS' 'F' 'C' 'o' 'Ä±' 'f' 'u' 'w' 'p' 'g' 'M' 'l' '|'\n",
      " 'â\\x80\\x93' 'I' '0' '1' '5' '\\x97' 'Ë\\x86' '¡' '\\x80' 'Â´' 'Å\\x9f' 'F2'\n",
      " 'ä' 'F1' 'Pause' 'F6']\n",
      "--------------------------------------------\n",
      "up_event\n",
      "['Leftclick' 'Shift' 'q' 'Space' 'Backspace' '.' ',' 'Enter' 'ArrowLeft'\n",
      " \"'\" ';' 'ArrowRight' '-' '?' 'Tab' '\"' 'ArrowUp' 'ArrowDown' 'm'\n",
      " 'Rightclick' 'i' 'o' 't' '=' 'a' 'CapsLock' 'Control' 'c' 'v' '/'\n",
      " 'Delete' ':' 'z' '[' '$' '(' ')' '+' 'Home' 'End' '\\\\' 'Meta' '*' '&'\n",
      " 'AudioVolumeMute' 'x' '!' 'Insert' 'MediaPlayPause' 'w' 'NumLock' '%' 'V'\n",
      " 'b' '>' 'Alt' 'AudioVolumeUp' 'ContextMenu' 'AudioVolumeDown' 'n' 'e' '<'\n",
      " 'PageDown' ']' 'Middleclick' '@' 'F12' 'u' 'j' 's' '\\x96' 'Dead' 'y' '{'\n",
      " 'ScrollLock' '¿' 'p' 'Process' '}' 'MediaTrackPrevious' 'MediaTrackNext'\n",
      " 'F3' '^' 'Unidentified' 'Cancel' 'h' '2' 'd' 'r' '`' '\\x9b' 'f' 'g' '#'\n",
      " '~' 'PageUp' 'l' 'T' 'A' 'S' 'ModeChange' '_' 'Escape' 'F11'\n",
      " 'Unknownclick' 'AltGraph' 'F10' 'F15' 'Clear' 'OS' 'C' 'Ä±' 'M' '|'\n",
      " 'â\\x80\\x93' '0' '1' '5' '\\x97' 'Ë\\x86' '¡' '\\x80' 'Â´' 'Å\\x9f' 'F2' 'ä'\n",
      " 'F1' 'k' 'Pause' 'F6']\n",
      "--------------------------------------------\n",
      "text_change\n",
      "['NoChange' 'q' ' ' ... 'qq qqq qqqq qqqqq' 'qq qqqqq qqqq qq qqqqq '\n",
      " '\\n qqqqq qqqqqq qqqqqqqqqq qq q qqqqqqqq qqq qqq qqqq qqqqqq q qqq. \\n\\nqqqq qqq qq qqqqqqq qqq:\\n- \\n- qqq qqqqqqq qqqq q qqqqqq qqqqqqqq qq qqqq qqqqqqqq ']\n",
      "--------------------------------------------\n"
     ]
    }
   ],
   "source": [
    "for i in categorical_columns:\n",
    "    print (i)\n",
    "    print(train_df[i].unique())\n",
    "    print(\"--------------------------------------------\")"
   ]
  },
  {
   "cell_type": "code",
   "execution_count": 12,
   "id": "52fb24df",
   "metadata": {
    "execution": {
     "iopub.execute_input": "2023-10-16T06:53:10.627028Z",
     "iopub.status.busy": "2023-10-16T06:53:10.626670Z",
     "iopub.status.idle": "2023-10-16T06:53:10.642511Z",
     "shell.execute_reply": "2023-10-16T06:53:10.641539Z"
    },
    "papermill": {
     "duration": 0.025041,
     "end_time": "2023-10-16T06:53:10.644599",
     "exception": false,
     "start_time": "2023-10-16T06:53:10.619558",
     "status": "completed"
    },
    "tags": []
   },
   "outputs": [],
   "source": [
    "# Creating categorical features at id level for all the categorical columns\n",
    "# Below are helper functions that will be utilized to create the categorical features\n",
    "# returns a dataframe with index and all the unique value of categorical columns as columns as defined \n",
    "# in below list\n",
    "\n",
    "from collections import Counter\n",
    "\n",
    "activities = ['Input', 'Remove/Cut', 'Nonproduction', 'Replace', 'Paste','Move from','Other']\n",
    "events = ['q', 'Space', 'Backspace', 'Shift', 'ArrowRight', 'Leftclick', 'ArrowLeft', '.', ',', 'ArrowDown', 'ArrowUp', 'Enter', 'CapsLock', \"'\", 'Delete', 'Other']\n",
    "text_changes = ['q', ' ', 'NoChange', '.', ',', '\\n', \"'\", '\"', '-', '?', ';', '=', '/', '\\\\', ':','Other']\n",
    "    \n",
    "\n",
    "def activity_counts(df,col):\n",
    "    # Agrregrating column on 'Move from'\n",
    "    df[col]  = df[col].apply(lambda x : 'Move From' if 'Move From' in x else x)\n",
    "    temp_df = df.groupby('id').agg({col: list}).reset_index()\n",
    "    final_count = []\n",
    "    for rows,ids in list(zip(temp_df[col].values,temp_df['id'].values)):\n",
    "        items = list(Counter(rows).items())\n",
    "        di = {}\n",
    "        di['id'] = ids\n",
    "        for act in activities:\n",
    "            di[act] = 0\n",
    "        for act,count in items:\n",
    "            if act in di:\n",
    "                di[act] = count\n",
    "            else:\n",
    "                di['Other'] += count\n",
    "        final_count.append(di)\n",
    "    final_count = pd.DataFrame(final_count)\n",
    "    new_cols = [f'{col}_{i}' if i !='id' else i for i in final_count.columns ]\n",
    "    final_count.columns = new_cols\n",
    "\n",
    "    return final_count\n",
    "        \n",
    "# Same function for down and up\n",
    "def event_counts(df,col):\n",
    "    temp_df = df.groupby('id').agg({col: list}).reset_index()\n",
    "    final_count = []\n",
    "    for rows,ids in list(zip(temp_df[col].values,temp_df['id'].values)):\n",
    "        items = list(Counter(rows).items())\n",
    "        di = {}\n",
    "        di['id'] = ids\n",
    "        for act in events:\n",
    "            di[act] = 0\n",
    "        for act,count in items:\n",
    "            if act in di:\n",
    "                di[act] = count\n",
    "            else:\n",
    "                di['Other'] += count\n",
    "        final_count.append(di)\n",
    "    final_count = pd.DataFrame(final_count)\n",
    "    new_cols = [f'{col}_{l}' if i !='id' else i for l,i in enumerate(final_count.columns) ]\n",
    "    final_count.columns = new_cols\n",
    "\n",
    "    return final_count\n",
    "\n",
    "def text_change(df,col):\n",
    "    temp_df = df.groupby('id').agg({col: list}).reset_index()\n",
    "    final_count = []\n",
    "    for rows,ids in list(zip(temp_df[col].values,temp_df['id'].values)):\n",
    "        items = list(Counter(rows).items())\n",
    "        di = {}\n",
    "        di['id'] = ids\n",
    "        for act in text_changes:\n",
    "            di[act] = 0\n",
    "        for act,count in items:\n",
    "            if act in di:\n",
    "                di[act] = count\n",
    "            else:\n",
    "                di['Other'] += count\n",
    "        final_count.append(di)\n",
    "    final_count = pd.DataFrame(final_count)\n",
    "    new_cols = [f'{col}_{l}' if i !='id' else i for l,i in enumerate(final_count.columns) ]\n",
    "    final_count.columns = new_cols\n",
    "\n",
    "    return final_count"
   ]
  },
  {
   "cell_type": "code",
   "execution_count": 13,
   "id": "d60d5296",
   "metadata": {
    "execution": {
     "iopub.execute_input": "2023-10-16T06:53:10.659061Z",
     "iopub.status.busy": "2023-10-16T06:53:10.658693Z",
     "iopub.status.idle": "2023-10-16T06:53:10.667609Z",
     "shell.execute_reply": "2023-10-16T06:53:10.666195Z"
    },
    "papermill": {
     "duration": 0.018471,
     "end_time": "2023-10-16T06:53:10.669981",
     "exception": false,
     "start_time": "2023-10-16T06:53:10.651510",
     "status": "completed"
    },
    "tags": []
   },
   "outputs": [],
   "source": [
    "def pre_process(df):\n",
    "    \n",
    "    x = df.groupby('id')[numerical_columns].mean().reset_index()\n",
    "    temp1 = activity_counts(df,'activity')\n",
    "    \n",
    "    return_df = pd.merge(x,temp1,how='inner',on='id')\n",
    "    del temp1\n",
    "    del x\n",
    "    \n",
    "    temp2 = event_counts(df,'down_event')\n",
    "    return_df = pd.merge(return_df,temp2,how='inner',on='id')\n",
    "    del temp2\n",
    "\n",
    "    temp3 = event_counts(df,'up_event')\n",
    "    return_df = pd.merge(return_df,temp3,how='inner',on='id')\n",
    "    del temp3\n",
    "\n",
    "    temp4 = text_change(df,'text_change')\n",
    "    return_df = pd.merge(return_df,temp4,how='inner',on='id')\n",
    "    del temp4\n",
    "\n",
    "    \n",
    "    return_df.set_index('id',inplace=True)\n",
    "    \n",
    "    return return_df"
   ]
  },
  {
   "cell_type": "code",
   "execution_count": 14,
   "id": "b2ad48b1",
   "metadata": {
    "execution": {
     "iopub.execute_input": "2023-10-16T06:53:10.683784Z",
     "iopub.status.busy": "2023-10-16T06:53:10.683387Z",
     "iopub.status.idle": "2023-10-16T06:53:22.461408Z",
     "shell.execute_reply": "2023-10-16T06:53:22.460132Z"
    },
    "papermill": {
     "duration": 11.787842,
     "end_time": "2023-10-16T06:53:22.463791",
     "exception": false,
     "start_time": "2023-10-16T06:53:10.675949",
     "status": "completed"
    },
    "tags": []
   },
   "outputs": [],
   "source": [
    "X_train = pre_process(train_df)\n",
    "Y_train = train_scores.set_index('id')\n",
    "df_train = X_train.join(Y_train)"
   ]
  },
  {
   "cell_type": "code",
   "execution_count": 15,
   "id": "90344b28",
   "metadata": {
    "execution": {
     "iopub.execute_input": "2023-10-16T06:53:22.478449Z",
     "iopub.status.busy": "2023-10-16T06:53:22.478032Z",
     "iopub.status.idle": "2023-10-16T06:53:22.482921Z",
     "shell.execute_reply": "2023-10-16T06:53:22.481557Z"
    },
    "papermill": {
     "duration": 0.014927,
     "end_time": "2023-10-16T06:53:22.485164",
     "exception": false,
     "start_time": "2023-10-16T06:53:22.470237",
     "status": "completed"
    },
    "tags": []
   },
   "outputs": [],
   "source": [
    "#df_train"
   ]
  },
  {
   "cell_type": "markdown",
   "id": "340c2dda",
   "metadata": {
    "papermill": {
     "duration": 0.005436,
     "end_time": "2023-10-16T06:53:22.496734",
     "exception": false,
     "start_time": "2023-10-16T06:53:22.491298",
     "status": "completed"
    },
    "tags": []
   },
   "source": [
    "## FITTING THE MODEL"
   ]
  },
  {
   "cell_type": "code",
   "execution_count": 16,
   "id": "904964f0",
   "metadata": {
    "execution": {
     "iopub.execute_input": "2023-10-16T06:53:22.510415Z",
     "iopub.status.busy": "2023-10-16T06:53:22.509634Z",
     "iopub.status.idle": "2023-10-16T06:53:24.088859Z",
     "shell.execute_reply": "2023-10-16T06:53:24.087480Z"
    },
    "papermill": {
     "duration": 1.588933,
     "end_time": "2023-10-16T06:53:24.091474",
     "exception": false,
     "start_time": "2023-10-16T06:53:22.502541",
     "status": "completed"
    },
    "tags": []
   },
   "outputs": [],
   "source": [
    "from sklearn.model_selection import train_test_split\n",
    "\n",
    "X_train,X_test,y_train,y_test =train_test_split(df_train.iloc[:,:-1],df_train.iloc[:,-1],test_size = 0.3)"
   ]
  },
  {
   "cell_type": "code",
   "execution_count": 17,
   "id": "8302e5b1",
   "metadata": {
    "execution": {
     "iopub.execute_input": "2023-10-16T06:53:24.105273Z",
     "iopub.status.busy": "2023-10-16T06:53:24.104819Z",
     "iopub.status.idle": "2023-10-16T06:53:26.764331Z",
     "shell.execute_reply": "2023-10-16T06:53:26.762430Z"
    },
    "papermill": {
     "duration": 2.669116,
     "end_time": "2023-10-16T06:53:26.766613",
     "exception": false,
     "start_time": "2023-10-16T06:53:24.097497",
     "status": "completed"
    },
    "tags": []
   },
   "outputs": [
    {
     "name": "stderr",
     "output_type": "stream",
     "text": [
      "/opt/conda/lib/python3.10/site-packages/lightgbm/sklearn.py:726: UserWarning: 'early_stopping_rounds' argument is deprecated and will be removed in a future release of LightGBM. Pass 'early_stopping()' callback via 'callbacks' argument instead.\n",
      "  _log_warning(\"'early_stopping_rounds' argument is deprecated and will be removed in a future release of LightGBM. \"\n",
      "/opt/conda/lib/python3.10/site-packages/lightgbm/sklearn.py:736: UserWarning: 'verbose' argument is deprecated and will be removed in a future release of LightGBM. Pass 'log_evaluation()' callback via 'callbacks' argument instead.\n",
      "  _log_warning(\"'verbose' argument is deprecated and will be removed in a future release of LightGBM. \"\n"
     ]
    },
    {
     "name": "stdout",
     "output_type": "stream",
     "text": [
      "0.4282707196003128\n"
     ]
    }
   ],
   "source": [
    "from sklearn.metrics import mean_squared_error\n",
    "import lightgbm as lgb\n",
    "# param = {\n",
    "#         'metric': 'rmse', \n",
    "#         'random_state': CONFIG.seed,\n",
    "#         'n_estimators': CONFIG.num_estimators,\n",
    "#         'reg_alpha': trial.suggest_loguniform('reg_alpha', 1e-3, 10.0),\n",
    "#         'reg_lambda': trial.suggest_loguniform('reg_lambda', 1e-3, 10.0),\n",
    "#         'colsample_bytree': trial.suggest_float('colsample_bytree', 0.5, 1),\n",
    "#         'subsample': trial.suggest_float('subsample', 0.5, 1),\n",
    "#         'learning_rate': trial.suggest_float('learning_rate', 1e-4, 0.1, log=True),\n",
    "#         'num_leaves' : trial.suggest_int('num_leaves', 2, 32),\n",
    "#         'min_child_samples': trial.suggest_int('min_child_samples', 1, 100),\n",
    "#     }\n",
    "model = lgb.LGBMRegressor()\n",
    "model.fit(X_train,y_train,eval_set=[(X_test,y_test)],early_stopping_rounds=100,verbose=False)\n",
    "preds  = model.predict(X_test)\n",
    "rmse = mean_squared_error(y_test,preds)\n",
    "print(rmse)"
   ]
  },
  {
   "cell_type": "markdown",
   "id": "0f0f3956",
   "metadata": {
    "papermill": {
     "duration": 0.006053,
     "end_time": "2023-10-16T06:53:26.779374",
     "exception": false,
     "start_time": "2023-10-16T06:53:26.773321",
     "status": "completed"
    },
    "tags": []
   },
   "source": [
    "## SUBMISSION"
   ]
  },
  {
   "cell_type": "code",
   "execution_count": 18,
   "id": "1bbc2240",
   "metadata": {
    "execution": {
     "iopub.execute_input": "2023-10-16T06:53:26.795000Z",
     "iopub.status.busy": "2023-10-16T06:53:26.794567Z",
     "iopub.status.idle": "2023-10-16T06:53:26.835868Z",
     "shell.execute_reply": "2023-10-16T06:53:26.834538Z"
    },
    "papermill": {
     "duration": 0.052449,
     "end_time": "2023-10-16T06:53:26.838666",
     "exception": false,
     "start_time": "2023-10-16T06:53:26.786217",
     "status": "completed"
    },
    "tags": []
   },
   "outputs": [],
   "source": [
    "sub_df = pre_process(test_df)\n",
    "sub_predict = model.predict(sub_df)\n",
    "sub_dict = {'id':sub_df.index, 'score':sub_predict}\n",
    "sub_df = pd.DataFrame(sub_dict)\n",
    "sub_df.to_csv(\"submission.csv\",index=False)"
   ]
  }
 ],
 "metadata": {
  "kernelspec": {
   "display_name": "Python 3",
   "language": "python",
   "name": "python3"
  },
  "language_info": {
   "codemirror_mode": {
    "name": "ipython",
    "version": 3
   },
   "file_extension": ".py",
   "mimetype": "text/x-python",
   "name": "python",
   "nbconvert_exporter": "python",
   "pygments_lexer": "ipython3",
   "version": "3.10.12"
  },
  "papermill": {
   "default_parameters": {},
   "duration": 40.977806,
   "end_time": "2023-10-16T06:53:27.768312",
   "environment_variables": {},
   "exception": null,
   "input_path": "__notebook__.ipynb",
   "output_path": "__notebook__.ipynb",
   "parameters": {},
   "start_time": "2023-10-16T06:52:46.790506",
   "version": "2.4.0"
  }
 },
 "nbformat": 4,
 "nbformat_minor": 5
}
