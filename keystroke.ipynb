{
 "cells": [
  {
   "cell_type": "code",
   "execution_count": 1,
   "id": "1b30c13b",
   "metadata": {
    "_cell_guid": "b1076dfc-b9ad-4769-8c92-a6c4dae69d19",
    "_uuid": "8f2839f25d086af736a60e9eeb907d3b93b6e0e5",
    "execution": {
     "iopub.execute_input": "2023-10-17T11:11:55.577540Z",
     "iopub.status.busy": "2023-10-17T11:11:55.576810Z",
     "iopub.status.idle": "2023-10-17T11:11:55.954283Z",
     "shell.execute_reply": "2023-10-17T11:11:55.953245Z"
    },
    "papermill": {
     "duration": 0.388347,
     "end_time": "2023-10-17T11:11:55.957401",
     "exception": false,
     "start_time": "2023-10-17T11:11:55.569054",
     "status": "completed"
    },
    "tags": []
   },
   "outputs": [
    {
     "name": "stdout",
     "output_type": "stream",
     "text": [
      "/kaggle/input/linking-writing-processes-to-writing-quality/sample_submission.csv\n",
      "/kaggle/input/linking-writing-processes-to-writing-quality/test_logs.csv\n",
      "/kaggle/input/linking-writing-processes-to-writing-quality/train_scores.csv\n",
      "/kaggle/input/linking-writing-processes-to-writing-quality/train_logs.csv\n"
     ]
    }
   ],
   "source": [
    "# This Python 3 environment comes with many helpful analytics libraries installed\n",
    "# It is defined by the kaggle/python Docker image: https://github.com/kaggle/docker-python\n",
    "# For example, here's several helpful packages to load\n",
    "\n",
    "import numpy as np # linear algebra\n",
    "import pandas as pd # data processing, CSV file I/O (e.g. pd.read_csv)\n",
    "import tqdm\n",
    "\n",
    "# Input data files are available in the read-only \"../input/\" directory\n",
    "# For example, running this (by clicking run or pressing Shift+Enter) will list all files under the input directory\n",
    "\n",
    "import os\n",
    "for dirname, _, filenames in os.walk('/kaggle/input'):\n",
    "    for filename in filenames:\n",
    "        print(os.path.join(dirname, filename))\n",
    "\n",
    "# You can write up to 20GB to the current directory (/kaggle/working/) that gets preserved as output when you create a version using \"Save & Run All\" \n",
    "# You can also write temporary files to /kaggle/temp/, but they won't be saved outside of the current session"
   ]
  },
  {
   "cell_type": "markdown",
   "id": "40901421",
   "metadata": {
    "papermill": {
     "duration": 0.005179,
     "end_time": "2023-10-17T11:11:55.968375",
     "exception": false,
     "start_time": "2023-10-17T11:11:55.963196",
     "status": "completed"
    },
    "tags": []
   },
   "source": [
    "## 1. EDA"
   ]
  },
  {
   "cell_type": "code",
   "execution_count": 2,
   "id": "07e8dc88",
   "metadata": {
    "execution": {
     "iopub.execute_input": "2023-10-17T11:11:55.981480Z",
     "iopub.status.busy": "2023-10-17T11:11:55.980272Z",
     "iopub.status.idle": "2023-10-17T11:12:10.224753Z",
     "shell.execute_reply": "2023-10-17T11:12:10.223833Z"
    },
    "papermill": {
     "duration": 14.253463,
     "end_time": "2023-10-17T11:12:10.227162",
     "exception": false,
     "start_time": "2023-10-17T11:11:55.973699",
     "status": "completed"
    },
    "tags": []
   },
   "outputs": [],
   "source": [
    "# Reading the files\n",
    "train_df = pd.read_csv('/kaggle/input/linking-writing-processes-to-writing-quality/train_logs.csv')\n",
    "test_df = pd.read_csv('/kaggle/input/linking-writing-processes-to-writing-quality/test_logs.csv')\n",
    "train_scores = pd.read_csv('/kaggle/input/linking-writing-processes-to-writing-quality/train_scores.csv')"
   ]
  },
  {
   "cell_type": "code",
   "execution_count": 3,
   "id": "e90d10e5",
   "metadata": {
    "execution": {
     "iopub.execute_input": "2023-10-17T11:12:10.240077Z",
     "iopub.status.busy": "2023-10-17T11:12:10.239715Z",
     "iopub.status.idle": "2023-10-17T11:12:10.245931Z",
     "shell.execute_reply": "2023-10-17T11:12:10.244581Z"
    },
    "papermill": {
     "duration": 0.015542,
     "end_time": "2023-10-17T11:12:10.248471",
     "exception": false,
     "start_time": "2023-10-17T11:12:10.232929",
     "status": "completed"
    },
    "tags": []
   },
   "outputs": [],
   "source": [
    "# checking train_df and train_scores\n",
    "#train_df"
   ]
  },
  {
   "cell_type": "code",
   "execution_count": 4,
   "id": "f1bdad85",
   "metadata": {
    "execution": {
     "iopub.execute_input": "2023-10-17T11:12:10.262522Z",
     "iopub.status.busy": "2023-10-17T11:12:10.262174Z",
     "iopub.status.idle": "2023-10-17T11:12:10.267216Z",
     "shell.execute_reply": "2023-10-17T11:12:10.265951Z"
    },
    "papermill": {
     "duration": 0.014304,
     "end_time": "2023-10-17T11:12:10.269488",
     "exception": false,
     "start_time": "2023-10-17T11:12:10.255184",
     "status": "completed"
    },
    "tags": []
   },
   "outputs": [],
   "source": [
    "#train_scores"
   ]
  },
  {
   "cell_type": "code",
   "execution_count": 5,
   "id": "9da90cf0",
   "metadata": {
    "execution": {
     "iopub.execute_input": "2023-10-17T11:12:10.282883Z",
     "iopub.status.busy": "2023-10-17T11:12:10.282129Z",
     "iopub.status.idle": "2023-10-17T11:12:10.286708Z",
     "shell.execute_reply": "2023-10-17T11:12:10.285797Z"
    },
    "papermill": {
     "duration": 0.013603,
     "end_time": "2023-10-17T11:12:10.288875",
     "exception": false,
     "start_time": "2023-10-17T11:12:10.275272",
     "status": "completed"
    },
    "tags": []
   },
   "outputs": [],
   "source": [
    "# Checking the column list\n",
    "#train_df.columns"
   ]
  },
  {
   "cell_type": "code",
   "execution_count": 6,
   "id": "9365eebc",
   "metadata": {
    "execution": {
     "iopub.execute_input": "2023-10-17T11:12:10.301939Z",
     "iopub.status.busy": "2023-10-17T11:12:10.301539Z",
     "iopub.status.idle": "2023-10-17T11:12:10.305760Z",
     "shell.execute_reply": "2023-10-17T11:12:10.304989Z"
    },
    "papermill": {
     "duration": 0.013397,
     "end_time": "2023-10-17T11:12:10.307962",
     "exception": false,
     "start_time": "2023-10-17T11:12:10.294565",
     "status": "completed"
    },
    "tags": []
   },
   "outputs": [],
   "source": [
    "# Checking data types of each column\n",
    "#train_df.dtypes"
   ]
  },
  {
   "cell_type": "code",
   "execution_count": 7,
   "id": "dbfe1c7c",
   "metadata": {
    "execution": {
     "iopub.execute_input": "2023-10-17T11:12:10.321154Z",
     "iopub.status.busy": "2023-10-17T11:12:10.320402Z",
     "iopub.status.idle": "2023-10-17T11:12:10.324703Z",
     "shell.execute_reply": "2023-10-17T11:12:10.324023Z"
    },
    "papermill": {
     "duration": 0.013219,
     "end_time": "2023-10-17T11:12:10.326648",
     "exception": false,
     "start_time": "2023-10-17T11:12:10.313429",
     "status": "completed"
    },
    "tags": []
   },
   "outputs": [],
   "source": [
    "# checking for null values\n",
    "#train_df.isnull().sum()"
   ]
  },
  {
   "cell_type": "code",
   "execution_count": 8,
   "id": "50aa9bf4",
   "metadata": {
    "execution": {
     "iopub.execute_input": "2023-10-17T11:12:10.339398Z",
     "iopub.status.busy": "2023-10-17T11:12:10.338696Z",
     "iopub.status.idle": "2023-10-17T11:12:10.352628Z",
     "shell.execute_reply": "2023-10-17T11:12:10.351860Z"
    },
    "papermill": {
     "duration": 0.02271,
     "end_time": "2023-10-17T11:12:10.354778",
     "exception": false,
     "start_time": "2023-10-17T11:12:10.332068",
     "status": "completed"
    },
    "tags": []
   },
   "outputs": [],
   "source": [
    "# segregrating categoricl and numerical column\n",
    "categorical_columns = []\n",
    "numerical_columns = []\n",
    "for i in train_df.columns:\n",
    "    if train_df[i].dtype == 'O':\n",
    "        categorical_columns.append(i)\n",
    "    else:\n",
    "        numerical_columns.append(i)"
   ]
  },
  {
   "cell_type": "code",
   "execution_count": 9,
   "id": "63adc108",
   "metadata": {
    "execution": {
     "iopub.execute_input": "2023-10-17T11:12:10.368385Z",
     "iopub.status.busy": "2023-10-17T11:12:10.367332Z",
     "iopub.status.idle": "2023-10-17T11:12:10.372635Z",
     "shell.execute_reply": "2023-10-17T11:12:10.371493Z"
    },
    "papermill": {
     "duration": 0.014937,
     "end_time": "2023-10-17T11:12:10.375286",
     "exception": false,
     "start_time": "2023-10-17T11:12:10.360349",
     "status": "completed"
    },
    "tags": []
   },
   "outputs": [],
   "source": [
    "categorical_columns.remove('id')\n",
    "numerical_columns.remove('event_id')\n"
   ]
  },
  {
   "cell_type": "code",
   "execution_count": 10,
   "id": "c67ed8e1",
   "metadata": {
    "execution": {
     "iopub.execute_input": "2023-10-17T11:12:10.388143Z",
     "iopub.status.busy": "2023-10-17T11:12:10.387816Z",
     "iopub.status.idle": "2023-10-17T11:12:10.391820Z",
     "shell.execute_reply": "2023-10-17T11:12:10.390692Z"
    },
    "papermill": {
     "duration": 0.013071,
     "end_time": "2023-10-17T11:12:10.393963",
     "exception": false,
     "start_time": "2023-10-17T11:12:10.380892",
     "status": "completed"
    },
    "tags": []
   },
   "outputs": [],
   "source": [
    "# print(categorical_columns)\n",
    "# print(numerical_columns)"
   ]
  },
  {
   "cell_type": "code",
   "execution_count": 11,
   "id": "29bdbada",
   "metadata": {
    "execution": {
     "iopub.execute_input": "2023-10-17T11:12:10.407048Z",
     "iopub.status.busy": "2023-10-17T11:12:10.406642Z",
     "iopub.status.idle": "2023-10-17T11:12:10.411066Z",
     "shell.execute_reply": "2023-10-17T11:12:10.410020Z"
    },
    "papermill": {
     "duration": 0.013215,
     "end_time": "2023-10-17T11:12:10.413044",
     "exception": false,
     "start_time": "2023-10-17T11:12:10.399829",
     "status": "completed"
    },
    "tags": []
   },
   "outputs": [],
   "source": [
    "# for i in categorical_columns:\n",
    "#     print (i)\n",
    "#     print(train_df[i].unique())\n",
    "#     print(\"--------------------------------------------\")"
   ]
  },
  {
   "cell_type": "code",
   "execution_count": 12,
   "id": "207a3cfc",
   "metadata": {
    "execution": {
     "iopub.execute_input": "2023-10-17T11:12:10.426070Z",
     "iopub.status.busy": "2023-10-17T11:12:10.425213Z",
     "iopub.status.idle": "2023-10-17T11:12:10.439385Z",
     "shell.execute_reply": "2023-10-17T11:12:10.438179Z"
    },
    "papermill": {
     "duration": 0.023349,
     "end_time": "2023-10-17T11:12:10.441838",
     "exception": false,
     "start_time": "2023-10-17T11:12:10.418489",
     "status": "completed"
    },
    "tags": []
   },
   "outputs": [],
   "source": [
    "# Creating categorical features at id level for all the categorical columns\n",
    "# Below are helper functions that will be utilized to create the categorical features\n",
    "# returns a dataframe with index and all the unique value of categorical columns as columns as defined \n",
    "# in below list\n",
    "\n",
    "from collections import Counter\n",
    "\n",
    "activities = ['Input', 'Remove/Cut', 'Nonproduction', 'Replace', 'Paste','Move from','Other']\n",
    "events = ['q', 'Space', 'Backspace', 'Shift', 'ArrowRight', 'Leftclick', 'ArrowLeft', '.', ',', 'ArrowDown', 'ArrowUp', 'Enter', 'CapsLock', \"'\", 'Delete', 'Other']\n",
    "text_changes = ['q', ' ', 'NoChange', '.', ',', '\\n', \"'\", '\"', '-', '?', ';', '=', '/', '\\\\', ':','Other']\n",
    "    \n",
    "\n",
    "def activity_counts(df,col):\n",
    "    # Agrregrating column on 'Move from'\n",
    "    df[col]  = df[col].apply(lambda x : 'Move From' if 'Move From' in x else x)\n",
    "    temp_df = df.groupby('id').agg({col: list}).reset_index()\n",
    "    final_count = []\n",
    "    for rows,ids in list(zip(temp_df[col].values,temp_df['id'].values)):\n",
    "        items = list(Counter(rows).items())\n",
    "        di = {}\n",
    "        di['id'] = ids\n",
    "        for act in activities:\n",
    "            di[act] = 0\n",
    "        for act,count in items:\n",
    "            if act in di:\n",
    "                di[act] = count\n",
    "            else:\n",
    "                di['Other'] += count\n",
    "        final_count.append(di)\n",
    "    final_count = pd.DataFrame(final_count)\n",
    "    new_cols = [f'{col}_{i}' if i !='id' else i for i in final_count.columns ]\n",
    "    final_count.columns = new_cols\n",
    "\n",
    "    return final_count\n",
    "        \n",
    "# Same function for down and up\n",
    "def event_counts(df,col):\n",
    "    temp_df = df.groupby('id').agg({col: list}).reset_index()\n",
    "    final_count = []\n",
    "    for rows,ids in list(zip(temp_df[col].values,temp_df['id'].values)):\n",
    "        items = list(Counter(rows).items())\n",
    "        di = {}\n",
    "        di['id'] = ids\n",
    "        for act in events:\n",
    "            di[act] = 0\n",
    "        for act,count in items:\n",
    "            if act in di:\n",
    "                di[act] = count\n",
    "            else:\n",
    "                di['Other'] += count\n",
    "        final_count.append(di)\n",
    "    final_count = pd.DataFrame(final_count)\n",
    "    new_cols = [f'{col}_{l}' if i !='id' else i for l,i in enumerate(final_count.columns) ]\n",
    "    final_count.columns = new_cols\n",
    "\n",
    "    return final_count\n",
    "\n",
    "def text_change(df,col):\n",
    "    temp_df = df.groupby('id').agg({col: list}).reset_index()\n",
    "    final_count = []\n",
    "    for rows,ids in list(zip(temp_df[col].values,temp_df['id'].values)):\n",
    "        items = list(Counter(rows).items())\n",
    "        di = {}\n",
    "        di['id'] = ids\n",
    "        for act in text_changes:\n",
    "            di[act] = 0\n",
    "        for act,count in items:\n",
    "            if act in di:\n",
    "                di[act] = count\n",
    "            else:\n",
    "                di['Other'] += count\n",
    "        final_count.append(di)\n",
    "    final_count = pd.DataFrame(final_count)\n",
    "    new_cols = [f'{col}_{l}' if i !='id' else i for l,i in enumerate(final_count.columns) ]\n",
    "    final_count.columns = new_cols\n",
    "\n",
    "    return final_count"
   ]
  },
  {
   "cell_type": "code",
   "execution_count": 13,
   "id": "18a5c0d8",
   "metadata": {
    "execution": {
     "iopub.execute_input": "2023-10-17T11:12:10.454738Z",
     "iopub.status.busy": "2023-10-17T11:12:10.454364Z",
     "iopub.status.idle": "2023-10-17T11:12:10.467041Z",
     "shell.execute_reply": "2023-10-17T11:12:10.465938Z"
    },
    "papermill": {
     "duration": 0.021423,
     "end_time": "2023-10-17T11:12:10.468946",
     "exception": false,
     "start_time": "2023-10-17T11:12:10.447523",
     "status": "completed"
    },
    "tags": []
   },
   "outputs": [],
   "source": [
    "def pre_process(df):\n",
    "    \n",
    "    data = pd.DataFrame()\n",
    "    df[\"total_event_time\"] = df[\"up_time\"]-df[\"down_time\"]\n",
    "    data['events'] = df.groupby('id')['event_id'].max()\n",
    "    data['up_time_sum'] = df.groupby('id')['up_time'].sum()\n",
    "    data['up_time_mean'] = df.groupby('id')['up_time'].mean()\n",
    "    data['up_time_std'] = df.groupby('id')['up_time'].std()\n",
    "\n",
    "    data['down_time_sum'] = df.groupby('id')['down_time'].sum()\n",
    "    data['down_time_mean'] = df.groupby('id')['down_time'].mean()\n",
    "    data['down_time_std'] = df.groupby('id')['down_time'].std()\n",
    "    \n",
    "    data['event_time_sum'] = df.groupby('id')['total_event_time'].sum()\n",
    "    data['event_time_mean'] = df.groupby('id')['total_event_time'].mean()\n",
    "    data['event_time_std'] = df.groupby('id')['total_event_time'].std()\n",
    "\n",
    "    data['action_time_sum'] = df.groupby('id')['action_time'].sum()\n",
    "    data['action_time_max'] = df.groupby('id')['action_time'].max()\n",
    "    data['action_time_mean'] = df.groupby('id')['action_time'].mean()\n",
    "    data['action_time_std'] = df.groupby('id')['action_time'].std()\n",
    "\n",
    "    data['down_up_ratio'] = df.groupby('id')['down_time'].mean() / df.groupby('id')['up_time'].mean()\n",
    "    data['down_action_ratio'] = df.groupby('id')['down_time'].mean() / df.groupby('id')['action_time'].mean()\n",
    "    data['up_action_ratio'] = df.groupby('id')['up_time'].mean() / df.groupby('id')['action_time'].mean()\n",
    "\n",
    "    data['down_event_nunique'] = df.groupby('id')['down_event'].nunique()\n",
    "    data['up_event_nunique'] = df.groupby('id')['up_event'].nunique()\n",
    "    \n",
    "    data['cursor_position_nunique'] = df.groupby('id')['cursor_position'].nunique()\n",
    "    data['cursor_position_median'] = df.groupby('id')['cursor_position'].median()\n",
    "    data['cursor_position_max'] = df.groupby('id')['cursor_position'].max()\n",
    "\n",
    "    data['word_count_max'] = df.groupby('id')['word_count'].max()\n",
    "    data['word_count_mean'] = df.groupby('id')['word_count'].mean()\n",
    "    \n",
    "    data = data.reset_index()\n",
    "    temp1 = activity_counts(df,'activity')\n",
    "    \n",
    "    return_df = pd.merge(data,temp1,how='inner',on='id')\n",
    "    del temp1\n",
    "    \n",
    "    \n",
    "    temp2 = event_counts(df,'down_event')\n",
    "    return_df = pd.merge(return_df,temp2,how='inner',on='id')\n",
    "    del temp2\n",
    "\n",
    "    temp3 = event_counts(df,'up_event')\n",
    "    return_df = pd.merge(return_df,temp3,how='inner',on='id')\n",
    "    del temp3\n",
    "\n",
    "    temp4 = text_change(df,'text_change')\n",
    "    return_df = pd.merge(return_df,temp4,how='inner',on='id')\n",
    "    del temp4\n",
    "\n",
    "    \n",
    "    return_df.set_index('id',inplace=True)\n",
    "    \n",
    "    return return_df"
   ]
  },
  {
   "cell_type": "code",
   "execution_count": 14,
   "id": "b4733845",
   "metadata": {
    "execution": {
     "iopub.execute_input": "2023-10-17T11:12:10.481254Z",
     "iopub.status.busy": "2023-10-17T11:12:10.480878Z",
     "iopub.status.idle": "2023-10-17T11:12:43.926140Z",
     "shell.execute_reply": "2023-10-17T11:12:43.924853Z"
    },
    "papermill": {
     "duration": 33.454419,
     "end_time": "2023-10-17T11:12:43.928901",
     "exception": false,
     "start_time": "2023-10-17T11:12:10.474482",
     "status": "completed"
    },
    "tags": []
   },
   "outputs": [],
   "source": [
    "X_train = pre_process(train_df)\n",
    "Y_train = train_scores.set_index('id')\n",
    "df_train = X_train.join(Y_train)"
   ]
  },
  {
   "cell_type": "code",
   "execution_count": 15,
   "id": "d57623e8",
   "metadata": {
    "execution": {
     "iopub.execute_input": "2023-10-17T11:12:43.942451Z",
     "iopub.status.busy": "2023-10-17T11:12:43.941985Z",
     "iopub.status.idle": "2023-10-17T11:12:43.946606Z",
     "shell.execute_reply": "2023-10-17T11:12:43.945552Z"
    },
    "papermill": {
     "duration": 0.013944,
     "end_time": "2023-10-17T11:12:43.948884",
     "exception": false,
     "start_time": "2023-10-17T11:12:43.934940",
     "status": "completed"
    },
    "tags": []
   },
   "outputs": [],
   "source": [
    "#X_train"
   ]
  },
  {
   "cell_type": "markdown",
   "id": "666539d6",
   "metadata": {
    "papermill": {
     "duration": 0.005035,
     "end_time": "2023-10-17T11:12:43.959362",
     "exception": false,
     "start_time": "2023-10-17T11:12:43.954327",
     "status": "completed"
    },
    "tags": []
   },
   "source": [
    "## FITTING THE MODEL"
   ]
  },
  {
   "cell_type": "code",
   "execution_count": 16,
   "id": "f8613e1f",
   "metadata": {
    "execution": {
     "iopub.execute_input": "2023-10-17T11:12:43.972227Z",
     "iopub.status.busy": "2023-10-17T11:12:43.971847Z",
     "iopub.status.idle": "2023-10-17T11:12:45.308072Z",
     "shell.execute_reply": "2023-10-17T11:12:45.306827Z"
    },
    "papermill": {
     "duration": 1.346778,
     "end_time": "2023-10-17T11:12:45.311592",
     "exception": false,
     "start_time": "2023-10-17T11:12:43.964814",
     "status": "completed"
    },
    "tags": []
   },
   "outputs": [],
   "source": [
    "from sklearn.model_selection import train_test_split\n",
    "\n",
    "X_train,X_test,y_train,y_test =train_test_split(df_train.iloc[:,:-1],df_train.iloc[:,-1],test_size = 0.3)"
   ]
  },
  {
   "cell_type": "code",
   "execution_count": 17,
   "id": "0d05eb35",
   "metadata": {
    "execution": {
     "iopub.execute_input": "2023-10-17T11:12:45.332721Z",
     "iopub.status.busy": "2023-10-17T11:12:45.332324Z",
     "iopub.status.idle": "2023-10-17T11:12:48.182596Z",
     "shell.execute_reply": "2023-10-17T11:12:48.181535Z"
    },
    "papermill": {
     "duration": 2.863616,
     "end_time": "2023-10-17T11:12:48.184939",
     "exception": false,
     "start_time": "2023-10-17T11:12:45.321323",
     "status": "completed"
    },
    "tags": []
   },
   "outputs": [
    {
     "name": "stderr",
     "output_type": "stream",
     "text": [
      "/opt/conda/lib/python3.10/site-packages/lightgbm/sklearn.py:726: UserWarning: 'early_stopping_rounds' argument is deprecated and will be removed in a future release of LightGBM. Pass 'early_stopping()' callback via 'callbacks' argument instead.\n",
      "  _log_warning(\"'early_stopping_rounds' argument is deprecated and will be removed in a future release of LightGBM. \"\n",
      "/opt/conda/lib/python3.10/site-packages/lightgbm/sklearn.py:736: UserWarning: 'verbose' argument is deprecated and will be removed in a future release of LightGBM. Pass 'log_evaluation()' callback via 'callbacks' argument instead.\n",
      "  _log_warning(\"'verbose' argument is deprecated and will be removed in a future release of LightGBM. \"\n"
     ]
    }
   ],
   "source": [
    "from sklearn.metrics import mean_squared_error, mean_absolute_error\n",
    "import lightgbm as lgb\n",
    "params_lgbm = {\n",
    "        'n_estimators': 1140, 'max_depth': 3, 'learning_rate': 0.012192985298639868,\n",
    "               'min_child_weight': 2.5028737839599557, 'min_child_samples': 40,\n",
    "               'subsample': 0.5833615591152317, 'subsample_freq': 1, 'colsample_bytree': 0.734238785736391\n",
    "    }\n",
    "lgbm_opt = lgb.LGBMRegressor(**params_lgbm)\n",
    "lgbm_opt.fit(X_train,y_train,eval_set=[(X_test,y_test)],early_stopping_rounds=100,verbose=False)\n",
    "preds  = lgbm_opt.predict(X_test)\n"
   ]
  },
  {
   "cell_type": "code",
   "execution_count": 18,
   "id": "334f9de8",
   "metadata": {
    "execution": {
     "iopub.execute_input": "2023-10-17T11:12:48.198135Z",
     "iopub.status.busy": "2023-10-17T11:12:48.197778Z",
     "iopub.status.idle": "2023-10-17T11:12:48.205086Z",
     "shell.execute_reply": "2023-10-17T11:12:48.203977Z"
    },
    "papermill": {
     "duration": 0.016239,
     "end_time": "2023-10-17T11:12:48.206989",
     "exception": false,
     "start_time": "2023-10-17T11:12:48.190750",
     "status": "completed"
    },
    "tags": []
   },
   "outputs": [
    {
     "name": "stdout",
     "output_type": "stream",
     "text": [
      "MAE: 0.5072188780404872\n",
      "MSE: 0.43400751317478087\n",
      "RMSE: 0.6587924659365655\n"
     ]
    }
   ],
   "source": [
    "print(\"MAE:\",mean_absolute_error(y_test,preds))\n",
    "print(\"MSE:\",mean_squared_error(y_test,preds))\n",
    "print(\"RMSE:\",mean_squared_error(y_test,preds,squared=False))"
   ]
  },
  {
   "cell_type": "code",
   "execution_count": 19,
   "id": "c8546deb",
   "metadata": {
    "execution": {
     "iopub.execute_input": "2023-10-17T11:12:48.220418Z",
     "iopub.status.busy": "2023-10-17T11:12:48.220075Z",
     "iopub.status.idle": "2023-10-17T11:12:51.052889Z",
     "shell.execute_reply": "2023-10-17T11:12:51.051879Z"
    },
    "papermill": {
     "duration": 2.842453,
     "end_time": "2023-10-17T11:12:51.055374",
     "exception": false,
     "start_time": "2023-10-17T11:12:48.212921",
     "status": "completed"
    },
    "tags": []
   },
   "outputs": [],
   "source": [
    "from xgboost import XGBRegressor\n",
    "params_xgb = {'n_estimators': 786, 'max_depth': 7, 'min_child_weight': 2.039057805276082,\n",
    "              'learning_rate': 0.014416140789003485, 'subsample': 0.4709832796447838,\n",
    "              'gamma': 0.944842834910575, 'colsample_bytree': 0.3665662093440971,\n",
    "              'colsample_bylevel': 0.5005441850291041, 'colsample_bynode': 0.5984372995917981}\n",
    "\n",
    "xgb_opt = XGBRegressor(**params_xgb)#tree_method = \"gpu_hist\")\n",
    "xgb_opt.fit(X_train,y_train)\n",
    "preds = xgb_opt.predict(X_test)"
   ]
  },
  {
   "cell_type": "code",
   "execution_count": 20,
   "id": "5fe0e1c7",
   "metadata": {
    "execution": {
     "iopub.execute_input": "2023-10-17T11:12:51.068459Z",
     "iopub.status.busy": "2023-10-17T11:12:51.068083Z",
     "iopub.status.idle": "2023-10-17T11:12:51.076763Z",
     "shell.execute_reply": "2023-10-17T11:12:51.075198Z"
    },
    "papermill": {
     "duration": 0.017712,
     "end_time": "2023-10-17T11:12:51.078847",
     "exception": false,
     "start_time": "2023-10-17T11:12:51.061135",
     "status": "completed"
    },
    "tags": []
   },
   "outputs": [
    {
     "name": "stdout",
     "output_type": "stream",
     "text": [
      "MAE: 0.5046544463808003\n",
      "MSE: 0.4381614474256955\n",
      "RMSE: 0.6619376461765077\n"
     ]
    }
   ],
   "source": [
    "print(\"MAE:\",mean_absolute_error(y_test,preds))\n",
    "print(\"MSE:\",mean_squared_error(y_test,preds))\n",
    "print(\"RMSE:\",mean_squared_error(y_test,preds,squared=False))"
   ]
  },
  {
   "cell_type": "code",
   "execution_count": 21,
   "id": "76f697cf",
   "metadata": {
    "execution": {
     "iopub.execute_input": "2023-10-17T11:12:51.091713Z",
     "iopub.status.busy": "2023-10-17T11:12:51.091368Z",
     "iopub.status.idle": "2023-10-17T11:12:56.228258Z",
     "shell.execute_reply": "2023-10-17T11:12:56.227391Z"
    },
    "papermill": {
     "duration": 5.146416,
     "end_time": "2023-10-17T11:12:56.230825",
     "exception": false,
     "start_time": "2023-10-17T11:12:51.084409",
     "status": "completed"
    },
    "tags": []
   },
   "outputs": [],
   "source": [
    "from sklearn.ensemble import VotingRegressor\n",
    "\n",
    "vr_opt = VotingRegressor([(\"xgb\",xgb_opt),(\"lgbm\",lgbm_opt)],weights=[0.3,0.7])\n",
    "vr_opt.fit(X_train,y_train)\n",
    "\n",
    "preds = vr_opt.predict(X_test)"
   ]
  },
  {
   "cell_type": "code",
   "execution_count": 22,
   "id": "6dd1c211",
   "metadata": {
    "execution": {
     "iopub.execute_input": "2023-10-17T11:12:56.246341Z",
     "iopub.status.busy": "2023-10-17T11:12:56.245983Z",
     "iopub.status.idle": "2023-10-17T11:12:56.256005Z",
     "shell.execute_reply": "2023-10-17T11:12:56.254873Z"
    },
    "papermill": {
     "duration": 0.019953,
     "end_time": "2023-10-17T11:12:56.258076",
     "exception": false,
     "start_time": "2023-10-17T11:12:56.238123",
     "status": "completed"
    },
    "tags": []
   },
   "outputs": [
    {
     "name": "stdout",
     "output_type": "stream",
     "text": [
      "MAE: 0.5059988758709525\n",
      "MSE: 0.43514492181233155\n",
      "RMSE: 0.6596551537070953\n"
     ]
    }
   ],
   "source": [
    "print(\"MAE:\",mean_absolute_error(y_test,preds))\n",
    "print(\"MSE:\",mean_squared_error(y_test,preds))\n",
    "print(\"RMSE:\",mean_squared_error(y_test,preds,squared=False))"
   ]
  },
  {
   "cell_type": "markdown",
   "id": "e7e68ca6",
   "metadata": {
    "papermill": {
     "duration": 0.005217,
     "end_time": "2023-10-17T11:12:56.269321",
     "exception": false,
     "start_time": "2023-10-17T11:12:56.264104",
     "status": "completed"
    },
    "tags": []
   },
   "source": [
    "## SUBMISSION"
   ]
  },
  {
   "cell_type": "code",
   "execution_count": 23,
   "id": "3baaed13",
   "metadata": {
    "execution": {
     "iopub.execute_input": "2023-10-17T11:12:56.282244Z",
     "iopub.status.busy": "2023-10-17T11:12:56.281871Z",
     "iopub.status.idle": "2023-10-17T11:12:56.344200Z",
     "shell.execute_reply": "2023-10-17T11:12:56.343090Z"
    },
    "papermill": {
     "duration": 0.07151,
     "end_time": "2023-10-17T11:12:56.346494",
     "exception": false,
     "start_time": "2023-10-17T11:12:56.274984",
     "status": "completed"
    },
    "tags": []
   },
   "outputs": [],
   "source": [
    "sub_df = pre_process(test_df)\n",
    "sub_predict = vr_opt.predict(sub_df)\n",
    "sub_dict = {'id':sub_df.index, 'score':sub_predict}\n",
    "sub_df = pd.DataFrame(sub_dict)\n",
    "sub_df.to_csv(\"submission.csv\",index=False)"
   ]
  },
  {
   "cell_type": "code",
   "execution_count": null,
   "id": "497cc410",
   "metadata": {
    "papermill": {
     "duration": 0.005427,
     "end_time": "2023-10-17T11:12:56.357597",
     "exception": false,
     "start_time": "2023-10-17T11:12:56.352170",
     "status": "completed"
    },
    "tags": []
   },
   "outputs": [],
   "source": []
  }
 ],
 "metadata": {
  "kernelspec": {
   "display_name": "Python 3",
   "language": "python",
   "name": "python3"
  },
  "language_info": {
   "codemirror_mode": {
    "name": "ipython",
    "version": 3
   },
   "file_extension": ".py",
   "mimetype": "text/x-python",
   "name": "python",
   "nbconvert_exporter": "python",
   "pygments_lexer": "ipython3",
   "version": "3.10.12"
  },
  "papermill": {
   "default_parameters": {},
   "duration": 64.968826,
   "end_time": "2023-10-17T11:12:57.285601",
   "environment_variables": {},
   "exception": null,
   "input_path": "__notebook__.ipynb",
   "output_path": "__notebook__.ipynb",
   "parameters": {},
   "start_time": "2023-10-17T11:11:52.316775",
   "version": "2.4.0"
  }
 },
 "nbformat": 4,
 "nbformat_minor": 5
}
